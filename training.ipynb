{
 "cells": [
  {
   "cell_type": "code",
   "execution_count": null,
   "id": "0090000b",
   "metadata": {
    "lines_to_next_cell": 2
   },
   "outputs": [],
   "source": [
    "import os\n",
    "import pandas as pd\n",
    "import tensorflow as tf\n",
    "import tensorflow_text\n",
    "from transformers import BertTokenizer, TFBertForSequenceClassification\n",
    "from tensorflow.keras.utils import to_categorical"
   ]
  },
  {
   "cell_type": "code",
   "execution_count": null,
   "id": "10395a28",
   "metadata": {},
   "outputs": [],
   "source": [
    "BASE_DIR = os.path.dirname(os.path.abspath(__file__))"
   ]
  },
  {
   "cell_type": "code",
   "execution_count": null,
   "id": "2014893a",
   "metadata": {},
   "outputs": [],
   "source": [
    "os.environ[\"TF_AUTOTUNE\"] = \"1\"\n",
    "tf.keras.backend.set_floatx('float16')"
   ]
  },
  {
   "cell_type": "code",
   "execution_count": null,
   "id": "5175731e",
   "metadata": {},
   "outputs": [],
   "source": [
    "# Enable autotuning\n",
    "tf.config.threading.set_intra_op_parallelism_threads(1)\n",
    "tf.config.threading.set_inter_op_parallelism_threads(1)\n",
    "tf.config.threading.set_intra_op_parallelism_threads(1)\n",
    "tf.config.threading.set_inter_op_parallelism_threads(1)"
   ]
  },
  {
   "cell_type": "code",
   "execution_count": null,
   "id": "3b8bd522",
   "metadata": {},
   "outputs": [],
   "source": [
    "train_path = os.path.join(BASE_DIR, 'dataset/train.tsv')\n",
    "test_path = os.path.join(BASE_DIR, 'dataset/test.tsv')\n",
    "validation_path = os.path.join(BASE_DIR, 'dataset/validation.tsv')"
   ]
  },
  {
   "cell_type": "code",
   "execution_count": null,
   "id": "ae948410",
   "metadata": {},
   "outputs": [],
   "source": [
    "column_labels = ['row', 'json_ids', 'label', 'statement', 'subject', 'speaker', 'job_title', 'state', 'affiliation', 'barely_true_counts', 'false_counts', 'half_true_counts', 'mostly_true_counts', 'lies_counts', 'context', 'justification']"
   ]
  },
  {
   "cell_type": "code",
   "execution_count": null,
   "id": "b8a418a8",
   "metadata": {},
   "outputs": [],
   "source": [
    "# Data Frames \n",
    "train = pd.read_csv(train_path, sep=\"\\t\", header=None, names=column_labels)\n",
    "test = pd.read_csv(test_path, sep=\"\\t\", header=None, names=column_labels)\n",
    "valid = pd.read_csv(validation_path, sep=\"\\t\", header=None, names=column_labels)"
   ]
  },
  {
   "cell_type": "code",
   "execution_count": null,
   "id": "beb3f7eb",
   "metadata": {
    "lines_to_next_cell": 2
   },
   "outputs": [],
   "source": [
    "# Fill nan (empty boxes) with 0\n",
    "train = train.fillna('None')\n",
    "test = test.fillna('None')\n",
    "val = valid.fillna('None')"
   ]
  },
  {
   "cell_type": "code",
   "execution_count": null,
   "id": "79d60030",
   "metadata": {},
   "outputs": [],
   "source": [
    "labels = train['label']\n",
    "label_mapping = {label: idx for idx, label in enumerate(labels.unique())}\n",
    "num_of_classes=len(label_mapping)\n",
    "# print(num_of_classes)"
   ]
  },
  {
   "cell_type": "code",
   "execution_count": null,
   "id": "594b2c7b",
   "metadata": {},
   "outputs": [],
   "source": [
    "train['label_encoded'] = train['label'].map(label_mapping)"
   ]
  },
  {
   "cell_type": "code",
   "execution_count": null,
   "id": "25df0660",
   "metadata": {},
   "outputs": [],
   "source": [
    "val['label_encoded'] = val['label'].map(label_mapping)"
   ]
  },
  {
   "cell_type": "markdown",
   "id": "ae2b1d2a",
   "metadata": {},
   "source": [
    "train_one_hot_labels = to_categorical(train['label_encoded'], num_classes=num_of_classes)\n",
    "val_one_hot_labels = to_categorical(val['label_encoded'], num_classes=num_of_classes)"
   ]
  },
  {
   "cell_type": "code",
   "execution_count": null,
   "id": "6166be7f",
   "metadata": {},
   "outputs": [],
   "source": [
    "# model_name = 'experts_wiki_books'\n",
    "model_name = 'bert-base-uncased'\n",
    "tokenizer = BertTokenizer.from_pretrained(model_name)\n",
    "vocab_size = 10000  \n",
    "embedding_dim = 32  "
   ]
  },
  {
   "cell_type": "code",
   "execution_count": null,
   "id": "11a7bc0c",
   "metadata": {},
   "outputs": [],
   "source": [
    "# Create a custom embedding layer\n",
    "custom_embedding_layer = tf.keras.layers.Embedding(input_dim=vocab_size, output_dim=embedding_dim)"
   ]
  },
  {
   "cell_type": "markdown",
   "id": "e62c9575",
   "metadata": {},
   "source": [
    "metadata_columns = ['subjects', 'speakers', 'jobs', 'states', 'affiliations', 'contexts']"
   ]
  },
  {
   "cell_type": "code",
   "execution_count": null,
   "id": "a7c84152",
   "metadata": {},
   "outputs": [],
   "source": [
    "# Only using statement data at first\n",
    "# Tokenize the statement data\n",
    "train_encoded_statement_data = tokenizer(\n",
    "    train['statement'].to_list(),\n",
    "    padding=True,\n",
    "    truncation=True,\n",
    "    return_tensors='tf'\n",
    ")"
   ]
  },
  {
   "cell_type": "markdown",
   "id": "1628a3a2",
   "metadata": {},
   "source": [
    "train_labels = train['label'].tolist()"
   ]
  },
  {
   "cell_type": "code",
   "execution_count": null,
   "id": "ffca59d5",
   "metadata": {},
   "outputs": [],
   "source": [
    "val_encoded_statement_data = tokenizer(\n",
    "    val['statement'].tolist(),\n",
    "    padding=True,\n",
    "    truncation=True,\n",
    "    return_tensors='tf'\n",
    ")"
   ]
  },
  {
   "cell_type": "markdown",
   "id": "2053b268",
   "metadata": {},
   "source": [
    "val_labels = val['label'].tolist()"
   ]
  },
  {
   "cell_type": "code",
   "execution_count": null,
   "id": "8dca3abc",
   "metadata": {},
   "outputs": [],
   "source": [
    "# Create TensorFlow dataset for training\n",
    "train_dataset = tf.data.Dataset.from_tensor_slices((\n",
    "    {\n",
    "        'input_ids': train_encoded_statement_data['input_ids'], \n",
    "        'attention_mask': train_encoded_statement_data['attention_mask']\n",
    "    }, \n",
    "    train['label_encoded'] ))  # using one-hot encoded labels when CategoricalCrossEntropy used, \n",
    "                            # and when using SparseCrossEntropy use train['label_encoded'] which is int rep for labels : 0, 1, 2 ..5"
   ]
  },
  {
   "cell_type": "code",
   "execution_count": null,
   "id": "3141466a",
   "metadata": {},
   "outputs": [],
   "source": [
    "val_dataset = tf.data.Dataset.from_tensor_slices((\n",
    "    {\n",
    "        'input_ids': val_encoded_statement_data['input_ids'], \n",
    "        'attention_mask': val_encoded_statement_data['attention_mask']\n",
    "    },\n",
    "    val['label_encoded'] ))  # using one-hot encoded labels when CategoricalCrossEntropy used, \n",
    "                            # and when using SparseCrossEntropy use train['label_encoded'] which is int rep for labels : 0, 1, 2 ..5"
   ]
  },
  {
   "cell_type": "code",
   "execution_count": null,
   "id": "e384fa59",
   "metadata": {},
   "outputs": [],
   "source": [
    "# Limiting the dataset\n",
    "limit = 100  \n",
    "limited_train_dataset = train_dataset.take(limit)"
   ]
  },
  {
   "cell_type": "code",
   "execution_count": null,
   "id": "e9bdd426",
   "metadata": {},
   "outputs": [],
   "source": [
    "model = TFBertForSequenceClassification.from_pretrained(model_name)"
   ]
  },
  {
   "cell_type": "code",
   "execution_count": null,
   "id": "b518ae07",
   "metadata": {},
   "outputs": [],
   "source": [
    "num_epochs = 4\n",
    "batch_size = 16"
   ]
  },
  {
   "cell_type": "code",
   "execution_count": null,
   "id": "35146986",
   "metadata": {},
   "outputs": [],
   "source": [
    "# # Create a new model with the BERT base and the custom output layer\n",
    "input_ids = tf.keras.layers.Input(shape=(None,), dtype=tf.int32, name='input_ids')\n",
    "attention_mask = tf.keras.layers.Input(shape=(None,), dtype=tf.int32, name='attention_mask')"
   ]
  },
  {
   "cell_type": "markdown",
   "id": "2b836c7d",
   "metadata": {},
   "source": [
    "Custom embedding layer"
   ]
  },
  {
   "cell_type": "markdown",
   "id": "3b752035",
   "metadata": {},
   "source": [
    "custom_embeddings = custom_embedding_layer(input_ids)"
   ]
  },
  {
   "cell_type": "code",
   "execution_count": null,
   "id": "e74afa49",
   "metadata": {},
   "outputs": [],
   "source": [
    "# Adding a dense layer for the output \n",
    "dense_layer = tf.keras.layers.Dense(num_of_classes, activation='softmax', name='dense_output')\n",
    "bert_output = model([input_ids, attention_mask])\n",
    "cls_token = bert_output.logits\n",
    "dense_output = dense_layer(cls_token)\n",
    "# dense_output_expanded = tf.keras.layers.Reshape((1, 6))(dense_output)"
   ]
  },
  {
   "cell_type": "code",
   "execution_count": null,
   "id": "e98178aa",
   "metadata": {},
   "outputs": [],
   "source": [
    "# combined_embeddings = tf.keras.layers.Concatenate(axis=-1)([dense_output_expanded, custom_embeddings])\n",
    "output = tf.keras.layers.Dense(num_of_classes, activation='softmax')(dense_output)"
   ]
  },
  {
   "cell_type": "code",
   "execution_count": null,
   "id": "5de23a06",
   "metadata": {},
   "outputs": [],
   "source": [
    "# Create the final model\n",
    "custom_model = tf.keras.Model(inputs=model.input, outputs=output)"
   ]
  },
  {
   "cell_type": "code",
   "execution_count": null,
   "id": "c2cb8151",
   "metadata": {},
   "outputs": [],
   "source": [
    "custom_model.compile(optimizer=tf.keras.optimizers.Adam(learning_rate=0.01),\n",
    "            loss=tf.keras.losses.SparseCategoricalCrossentropy(),        #BinaryCrossEntropy for binary classification; for now lets only classify acc to data: 6 classes\n",
    "            metrics=tf.keras.metrics.SparseCategoricalAccuracy())  # or use ['accuracy']"
   ]
  },
  {
   "cell_type": "code",
   "execution_count": null,
   "id": "6f807bea",
   "metadata": {},
   "outputs": [],
   "source": [
    "custom_model.summary()"
   ]
  },
  {
   "cell_type": "code",
   "execution_count": null,
   "id": "12c663b6",
   "metadata": {},
   "outputs": [],
   "source": [
    "checkpoint_callback = tf.keras.callbacks.ModelCheckpoint(\n",
    "    filepath=os.path.join(BASE_DIR, 'model_checkpoint'),  # Specify the path to save the checkpoint\n",
    "    save_best_only=True,  # Save only the best model based on the validation loss\n",
    "    monitor='val_loss',  # Monitor the validation loss\n",
    "    mode='min',  # Mode can be 'min' or 'max' depending on the monitored metric\n",
    "    verbose=1  # Show progress while saving\n",
    ")"
   ]
  },
  {
   "cell_type": "code",
   "execution_count": null,
   "id": "ab08e7ac",
   "metadata": {},
   "outputs": [],
   "source": [
    "print('Start training')\n",
    "history = custom_model.fit(\n",
    "    limited_train_dataset.shuffle(100).batch(batch_size).prefetch(tf.data.AUTOTUNE),\n",
    "    epochs=num_epochs,\n",
    "    validation_data=val_dataset.batch(batch_size).prefetch(tf.data.AUTOTUNE),\n",
    "    verbose=1,\n",
    "    callbacks=[checkpoint_callback]\n",
    ")"
   ]
  },
  {
   "cell_type": "code",
   "execution_count": null,
   "id": "27d5ed1c",
   "metadata": {},
   "outputs": [],
   "source": [
    "# Save the trained model if needed\n",
    "custom_model.save_pretrained(os.path.join(BASE_DIR, 'trained_model'))"
   ]
  }
 ],
 "metadata": {
  "jupytext": {
   "cell_metadata_filter": "-all",
   "main_language": "python",
   "notebook_metadata_filter": "-all"
  }
 },
 "nbformat": 4,
 "nbformat_minor": 5
}
