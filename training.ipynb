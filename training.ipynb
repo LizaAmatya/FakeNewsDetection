{
  "cells": [
    {
      "cell_type": "markdown",
      "metadata": {
        "id": "view-in-github",
        "colab_type": "text"
      },
      "source": [
        "<a href=\"https://colab.research.google.com/github/LizaAmatya/FakeNewsDetection/blob/main/training.ipynb\" target=\"_parent\"><img src=\"https://colab.research.google.com/assets/colab-badge.svg\" alt=\"Open In Colab\"/></a>"
      ]
    },
    {
      "cell_type": "code",
      "source": [
        "# @title\n",
        "!pip install -r https://raw.githubusercontent.com/LizaAmatya/FakeNewsDetection/main/requirements.txt"
      ],
      "metadata": {
        "id": "VSUf5LWBtllU",
        "collapsed": true
      },
      "id": "VSUf5LWBtllU",
      "execution_count": null,
      "outputs": []
    },
    {
      "cell_type": "code",
      "execution_count": 2,
      "id": "0090000b",
      "metadata": {
        "lines_to_next_cell": 2,
        "id": "0090000b"
      },
      "outputs": [],
      "source": [
        "# @title\n",
        "import os\n",
        "import pandas as pd\n",
        "import tensorflow as tf\n",
        "# import tensorflow_text\n",
        "from transformers import BertTokenizer, TFBertForSequenceClassification, DistilBertTokenizer, TFDistilBertForSequenceClassification\n",
        "from tensorflow.keras.utils import to_categorical\n",
        "import numpy as np"
      ]
    },
    {
      "cell_type": "code",
      "execution_count": 3,
      "id": "2014893a",
      "metadata": {
        "id": "2014893a"
      },
      "outputs": [],
      "source": [
        "# os.environ[\"TF_AUTOTUNE\"] = \"1\"\n",
        "# tf.keras.backend.set_floatx('float16')\n",
        "mirrored_strategy = tf.distribute.MirroredStrategy(devices=[\"/gpu:0\", \"/gpu:1\",\"/gpu:2\", \"/gpu:3\"])"
      ]
    },
    {
      "cell_type": "code",
      "source": [
        "# try:\n",
        "#   tpu = tf.distribute.cluster_resolver.TPUClusterResolver()  # TPU detection\n",
        "#   print('Running on TPU ', tpu.cluster_spec().as_dict()['worker'])\n",
        "# except ValueError:\n",
        "#   raise BaseException('ERROR: Not connected to a TPU runtime; please see the previous cell in this notebook for instructions!')\n",
        "\n",
        "# tf.config.run_functions_eagerly(True)\n",
        "# tf.config.experimental_connect_to_cluster(tpu)\n",
        "# tf.tpu.experimental.initialize_tpu_system(tpu)\n",
        "# tpu_strategy = tf.distribute.TPUStrategy(tpu)\n",
        "# print(\"All devices: \", tf.config.list_logical_devices())"
      ],
      "metadata": {
        "id": "E8gMLgTcrmIi"
      },
      "id": "E8gMLgTcrmIi",
      "execution_count": 4,
      "outputs": []
    },
    {
      "cell_type": "code",
      "source": [
        "# from google.colab import drive\n",
        "# drive.mount('/content/drive')"
      ],
      "metadata": {
        "id": "0nuL56xz2uKl"
      },
      "id": "0nuL56xz2uKl",
      "execution_count": 5,
      "outputs": []
    },
    {
      "cell_type": "code",
      "source": [
        "# from tensorflow.keras import mixed_precision\n",
        "# mixed_precision.set_global_policy('mixed_float16')"
      ],
      "metadata": {
        "id": "9C_enaHoSOjn"
      },
      "id": "9C_enaHoSOjn",
      "execution_count": 6,
      "outputs": []
    },
    {
      "cell_type": "code",
      "execution_count": 7,
      "id": "10395a28",
      "metadata": {
        "id": "10395a28"
      },
      "outputs": [],
      "source": [
        "# BASE_DIR = os.path.dirname(os.path.abspath(__file__))\n",
        "BASE_DIR = \"/content/sample_data\""
      ]
    },
    {
      "cell_type": "code",
      "execution_count": 8,
      "id": "5175731e",
      "metadata": {
        "id": "5175731e"
      },
      "outputs": [],
      "source": [
        "# # Enable autotuning\n",
        "# tf.config.threading.set_intra_op_parallelism_threads(1)\n",
        "# tf.config.threading.set_inter_op_parallelism_threads(1)\n",
        "# tf.config.threading.set_intra_op_parallelism_threads(1)\n",
        "# tf.config.threading.set_inter_op_parallelism_threads(1)"
      ]
    },
    {
      "cell_type": "code",
      "execution_count": 9,
      "id": "3b8bd522",
      "metadata": {
        "id": "3b8bd522"
      },
      "outputs": [],
      "source": [
        "train_path = os.path.join(BASE_DIR, 'dataset/train.tsv')\n",
        "test_path = os.path.join(BASE_DIR, 'dataset/test.tsv')\n",
        "validation_path = os.path.join(BASE_DIR, 'dataset/validation.tsv')"
      ]
    },
    {
      "cell_type": "code",
      "execution_count": 10,
      "id": "ae948410",
      "metadata": {
        "id": "ae948410"
      },
      "outputs": [],
      "source": [
        "column_labels = ['row', 'json_ids', 'label', 'statement', 'subject', 'speaker', 'job_title', 'state', 'affiliation', 'barely_true_counts', 'false_counts', 'half_true_counts', 'mostly_true_counts', 'lies_counts', 'context', 'justification']"
      ]
    },
    {
      "cell_type": "code",
      "execution_count": 11,
      "id": "b8a418a8",
      "metadata": {
        "id": "b8a418a8"
      },
      "outputs": [],
      "source": [
        "# Data Frames\n",
        "train = pd.read_csv(train_path, sep=\"\\t\", header=None, names=column_labels)\n",
        "test = pd.read_csv(test_path, sep=\"\\t\", header=None, names=column_labels)\n",
        "valid = pd.read_csv(validation_path, sep=\"\\t\", header=None, names=column_labels)"
      ]
    },
    {
      "cell_type": "code",
      "execution_count": 12,
      "id": "beb3f7eb",
      "metadata": {
        "lines_to_next_cell": 2,
        "id": "beb3f7eb"
      },
      "outputs": [],
      "source": [
        "# Fill nan (empty boxes) with 0\n",
        "train = train.fillna('None')\n",
        "test = test.fillna('None')\n",
        "val = valid.fillna('None')\n",
        "# print(train['label'])\n",
        "# print(val['label'])"
      ]
    },
    {
      "cell_type": "code",
      "execution_count": 13,
      "id": "79d60030",
      "metadata": {
        "id": "79d60030"
      },
      "outputs": [],
      "source": [
        "labels = train['label']\n",
        "label_mapping = {label: idx for idx, label in enumerate(labels.unique())}\n",
        "label_mapping.update({'pants-fire':5})\n",
        "\n",
        "num_of_classes=len(label_mapping)\n",
        "train = train[:100]\n",
        "val = val[:50]\n",
        "# print(num_of_classes)"
      ]
    },
    {
      "cell_type": "code",
      "execution_count": 14,
      "id": "594b2c7b",
      "metadata": {
        "id": "594b2c7b"
      },
      "outputs": [],
      "source": [
        "train['label_encoded'] = train['label'].map(label_mapping)\n",
        "# print(train['label_encoded'])"
      ]
    },
    {
      "cell_type": "code",
      "execution_count": 15,
      "id": "25df0660",
      "metadata": {
        "id": "25df0660"
      },
      "outputs": [],
      "source": [
        "val['label_encoded'] = val['label'].map(label_mapping)\n",
        "# print(val['label_encoded'])"
      ]
    },
    {
      "cell_type": "code",
      "source": [
        "# train_one_hot_labels = to_categorical(train['label_encoded'], num_classes=num_of_classes)\n",
        "# val_one_hot_labels = to_categorical(val['label_encoded'], num_classes=num_of_classes)"
      ],
      "metadata": {
        "id": "1O1YI2HrFoyH"
      },
      "id": "1O1YI2HrFoyH",
      "execution_count": 16,
      "outputs": []
    },
    {
      "cell_type": "code",
      "execution_count": 17,
      "id": "6166be7f",
      "metadata": {
        "id": "6166be7f"
      },
      "outputs": [],
      "source": [
        "# model_name = 'experts_wiki_books'\n",
        "# model_name = 'bert-base-uncased'\n",
        "model_name = 'distilbert-base-uncased'\n",
        "# tokenizer = BertTokenizer.from_pretrained(model_name, max_length=128)\n",
        "tokenizer = DistilBertTokenizer.from_pretrained(model_name, max_length=128)\n",
        "# vocab_size = 10000\n",
        "# embedding_dim = 32"
      ]
    },
    {
      "cell_type": "code",
      "execution_count": 18,
      "id": "11a7bc0c",
      "metadata": {
        "id": "11a7bc0c"
      },
      "outputs": [],
      "source": [
        "# Create a custom embedding layer\n",
        "# custom_embedding_layer = tf.keras.layers.Embedding(input_dim=vocab_size, output_dim=embedding_dim)"
      ]
    },
    {
      "cell_type": "code",
      "execution_count": 19,
      "id": "a7c84152",
      "metadata": {
        "id": "a7c84152"
      },
      "outputs": [],
      "source": [
        "# Only using statement data at first\n",
        "# Tokenize the statement data\n",
        "train_encoded_statement_data = tokenizer(\n",
        "    train['statement'].to_list(),\n",
        "    padding=True,\n",
        "    truncation=True,\n",
        "    max_length=128,\n",
        "    return_tensors='tf'\n",
        ")\n",
        "\n",
        "# print(train_encoded_statement_data)"
      ]
    },
    {
      "cell_type": "markdown",
      "id": "1628a3a2",
      "metadata": {
        "id": "1628a3a2"
      },
      "source": [
        "train_labels = train['label'].tolist()"
      ]
    },
    {
      "cell_type": "code",
      "execution_count": 20,
      "id": "ffca59d5",
      "metadata": {
        "id": "ffca59d5"
      },
      "outputs": [],
      "source": [
        "val_encoded_statement_data = tokenizer(\n",
        "    val['statement'].tolist(),\n",
        "    padding=True,\n",
        "    truncation=True,\n",
        "    return_tensors='tf'\n",
        ")"
      ]
    },
    {
      "cell_type": "markdown",
      "id": "2053b268",
      "metadata": {
        "id": "2053b268"
      },
      "source": [
        "val_labels = val['label'].tolist()"
      ]
    },
    {
      "cell_type": "code",
      "execution_count": 21,
      "id": "8dca3abc",
      "metadata": {
        "id": "8dca3abc"
      },
      "outputs": [],
      "source": [
        "# Create TensorFlow dataset for training\n",
        "train_dataset = tf.data.Dataset.from_tensor_slices((\n",
        "    {\n",
        "        'input_ids': train_encoded_statement_data['input_ids'],\n",
        "        'attention_mask': train_encoded_statement_data['attention_mask']\n",
        "    },\n",
        "    train['label_encoded'] ))  # using one-hot encoded labels when CategoricalCrossEntropy used,\n",
        "                            # and when using SparseCrossEntropy use train['label_encoded'] which is int rep for labels : 0, 1, 2 ..5"
      ]
    },
    {
      "cell_type": "code",
      "execution_count": 22,
      "id": "3141466a",
      "metadata": {
        "id": "3141466a"
      },
      "outputs": [],
      "source": [
        "val_dataset = tf.data.Dataset.from_tensor_slices((\n",
        "    {\n",
        "        'input_ids': val_encoded_statement_data['input_ids'],\n",
        "        'attention_mask': val_encoded_statement_data['attention_mask']\n",
        "    },\n",
        "    val['label_encoded'] ))  # using one-hot encoded labels when CategoricalCrossEntropy used,\n",
        "                            # and when using SparseCrossEntropy use train['label_encoded'] which is int rep for labels : 0, 1, 2 ..5"
      ]
    },
    {
      "cell_type": "code",
      "execution_count": 23,
      "id": "e384fa59",
      "metadata": {
        "id": "e384fa59"
      },
      "outputs": [],
      "source": [
        "# Limiting the dataset\n",
        "# limit = 100\n",
        "# limited_train_dataset = train_dataset.take(limit)"
      ]
    },
    {
      "cell_type": "code",
      "execution_count": 24,
      "id": "e9bdd426",
      "metadata": {
        "id": "e9bdd426"
      },
      "outputs": [],
      "source": [
        "# model = TFBertForSequenceClassification.from_pretrained(model_name)"
      ]
    },
    {
      "cell_type": "code",
      "source": [
        "def create_model():\n",
        "  model_name = 'distilbert-base-uncased'\n",
        "  model = TFDistilBertForSequenceClassification.from_pretrained(model_name)\n",
        "  input_ids = tf.keras.layers.Input(shape=(None,), dtype=tf.int32, name='input_ids')\n",
        "  attention_mask = tf.keras.layers.Input(shape=(None,), dtype=tf.int32, name='attention_mask')\n",
        "\n",
        "  bert_output = model([input_ids, attention_mask])\n",
        "  cls_token = bert_output.logits\n",
        "\n",
        "  # Adding a dropout layer\n",
        "  dropout_rate = 0.5  # Adjust the dropout rate as needed\n",
        "  dropout_layer = tf.keras.layers.Dropout(rate=dropout_rate, name='dropout')(cls_token)\n",
        "\n",
        "  # Adding a dense layer for the output\n",
        "  dense_layer = tf.keras.layers.Dense(num_of_classes, activation='softmax', name='dense_output')\n",
        "  dense_output = dense_layer(dropout_layer)\n",
        "  # dense_output_expanded = tf.keras.layers.Reshape((1, 6))(dense_output)\n",
        "\n",
        "  output = tf.keras.layers.Dense(num_of_classes, activation='softmax')(dense_output)\n",
        "\n",
        "  custom_model = tf.keras.Model(inputs=model.input, outputs=output)\n",
        "  custom_model.compile(optimizer=tf.keras.optimizers.Adam(learning_rate=1e-3),\n",
        "            loss=tf.keras.losses.SparseCategoricalCrossentropy(),        #BinaryCrossEntropy for binary classification; for now lets only classify acc to data: 6 classes\n",
        "            metrics=tf.keras.metrics.SparseCategoricalAccuracy())  # or use ['accuracy']\n",
        "\n",
        "  return custom_model"
      ],
      "metadata": {
        "id": "n2Y0cBwDtxE6"
      },
      "id": "n2Y0cBwDtxE6",
      "execution_count": 25,
      "outputs": []
    },
    {
      "cell_type": "code",
      "execution_count": 26,
      "id": "b518ae07",
      "metadata": {
        "id": "b518ae07"
      },
      "outputs": [],
      "source": [
        "num_epochs = 10\n",
        "batch_size = 32"
      ]
    },
    {
      "cell_type": "code",
      "execution_count": 27,
      "id": "e98178aa",
      "metadata": {
        "id": "e98178aa"
      },
      "outputs": [],
      "source": [
        "# custom_embeddings = custom_embedding_layer(input_ids)\n",
        "# combined_embeddings = tf.keras.layers.Concatenate(axis=-1)([dense_output_expanded, custom_embeddings])\n"
      ]
    },
    {
      "cell_type": "code",
      "execution_count": 28,
      "id": "6f807bea",
      "metadata": {
        "id": "6f807bea",
        "colab": {
          "base_uri": "https://localhost:8080/"
        },
        "outputId": "226b7ca1-1793-4aa6-969f-7b625da2a468"
      },
      "outputs": [
        {
          "output_type": "stream",
          "name": "stderr",
          "text": [
            "Some weights of the PyTorch model were not used when initializing the TF 2.0 model TFDistilBertForSequenceClassification: ['vocab_transform.weight', 'vocab_layer_norm.weight', 'vocab_transform.bias', 'vocab_layer_norm.bias', 'vocab_projector.bias']\n",
            "- This IS expected if you are initializing TFDistilBertForSequenceClassification from a PyTorch model trained on another task or with another architecture (e.g. initializing a TFBertForSequenceClassification model from a BertForPreTraining model).\n",
            "- This IS NOT expected if you are initializing TFDistilBertForSequenceClassification from a PyTorch model that you expect to be exactly identical (e.g. initializing a TFBertForSequenceClassification model from a BertForSequenceClassification model).\n",
            "Some weights or buffers of the TF 2.0 model TFDistilBertForSequenceClassification were not initialized from the PyTorch model and are newly initialized: ['pre_classifier.weight', 'pre_classifier.bias', 'classifier.weight', 'classifier.bias']\n",
            "You should probably TRAIN this model on a down-stream task to be able to use it for predictions and inference.\n"
          ]
        },
        {
          "output_type": "stream",
          "name": "stdout",
          "text": [
            "Model: \"model\"\n",
            "__________________________________________________________________________________________________\n",
            " Layer (type)                Output Shape                 Param #   Connected to                  \n",
            "==================================================================================================\n",
            " input_ids (InputLayer)      [(None, None)]               0         []                            \n",
            "                                                                                                  \n",
            " attention_mask (InputLayer  [(None, None)]               0         []                            \n",
            " )                                                                                                \n",
            "                                                                                                  \n",
            " tf_distil_bert_for_sequenc  TFSequenceClassifierOutput   6695501   ['input_ids[0][0]',           \n",
            " e_classification (TFDistil  (loss=None, logits=(None,    0          'attention_mask[0][0]']      \n",
            " BertForSequenceClassificat  2),                                                                  \n",
            " ion)                         hidden_states=None, atten                                           \n",
            "                             tions=None)                                                          \n",
            "                                                                                                  \n",
            " dropout (Dropout)           (None, 2)                    0         ['tf_distil_bert_for_sequence_\n",
            "                                                                    classification[0][0]']        \n",
            "                                                                                                  \n",
            " dense_output (Dense)        (None, 6)                    18        ['dropout[0][0]']             \n",
            "                                                                                                  \n",
            " dense (Dense)               (None, 6)                    42        ['dense_output[0][0]']        \n",
            "                                                                                                  \n",
            "==================================================================================================\n",
            "Total params: 66955070 (255.41 MB)\n",
            "Trainable params: 66955070 (255.41 MB)\n",
            "Non-trainable params: 0 (0.00 Byte)\n",
            "__________________________________________________________________________________________________\n"
          ]
        }
      ],
      "source": [
        "strategy = tf.distribute.MirroredStrategy()\n",
        "with strategy.scope():\n",
        "    custom_model = create_model()\n",
        "# with tpu_strategy.scope(): # creating the model in the TPUStrategy scope means we will train the model on the TPU\n",
        "#   custom_model = create_model()\n",
        "\n",
        "custom_model.summary()"
      ]
    },
    {
      "cell_type": "code",
      "execution_count": 29,
      "id": "12c663b6",
      "metadata": {
        "id": "12c663b6"
      },
      "outputs": [],
      "source": [
        "checkpoint_callback = tf.keras.callbacks.ModelCheckpoint(\n",
        "    filepath=os.path.join(BASE_DIR, 'model_checkpoint'),  # Specify the path to save the checkpoint\n",
        "    save_best_only=True,  # Save only the best model based on the validation loss\n",
        "    monitor='val_loss',  # Monitor the validation loss\n",
        "    mode='min',  # Mode can be 'min' or 'max' depending on the monitored metric\n",
        "    verbose=1  # Show progress while saving\n",
        ")"
      ]
    },
    {
      "cell_type": "code",
      "source": [
        "from tqdm import tqdm\n",
        "from tensorflow.keras.callbacks import Callback\n",
        "\n",
        "train_steps_per_epoch = len(train_dataset)\n",
        "tqdm_callback = tf.keras.callbacks.LambdaCallback(\n",
        "    on_epoch_begin=lambda epoch, logs: tqdm(total=train_steps_per_epoch, position=0, desc=\"Epoch\", unit=\"batch\"),\n",
        "    on_epoch_end=lambda epoch, logs: tqdm.write(f'Epoch {epoch + 1}/{num_epochs}, Loss: {logs[\"loss\"]}, Accuracy: {logs[\"sparse_categorical_accuracy\"]}, Val Loss: {logs[\"val_loss\"]}, Val Accuracy: {logs[\"val_sparse_categorical_accuracy\"]}'),\n",
        "    on_batch_end=lambda batch, logs: tqdm.update(1)\n",
        ")\n",
        "\n",
        "class ProgressBarCallback(Callback):\n",
        "    def on_epoch_end(self, epoch, logs=None):\n",
        "        logs = logs or {}\n",
        "        self.epochs += 1\n",
        "        self.pbar.update(1)\n",
        "        self.pbar.set_postfix(logs, refresh=True)\n",
        "\n",
        "    def on_train_begin(self, logs=None):\n",
        "        self.epochs = 0\n",
        "        self.pbar = tqdm(total=self.params['epochs'], unit='epoch', position=0)\n",
        "\n",
        "    def on_train_end(self, logs=None):\n",
        "        self.pbar.close()"
      ],
      "metadata": {
        "id": "G_Yzo60DERzH"
      },
      "id": "G_Yzo60DERzH",
      "execution_count": 30,
      "outputs": []
    },
    {
      "cell_type": "code",
      "execution_count": 31,
      "id": "ab08e7ac",
      "metadata": {
        "id": "ab08e7ac",
        "colab": {
          "base_uri": "https://localhost:8080/"
        },
        "outputId": "309a6fbd-5008-43a8-b74f-8a1500d1075d"
      },
      "outputs": [
        {
          "output_type": "stream",
          "name": "stdout",
          "text": [
            "Start training\n"
          ]
        },
        {
          "output_type": "stream",
          "name": "stderr",
          "text": [
            "\r  0%|          | 0/10 [00:00<?, ?epoch/s]"
          ]
        },
        {
          "output_type": "stream",
          "name": "stdout",
          "text": [
            "Epoch 1/10\n",
            "\n",
            "Epoch 1: val_loss improved from inf to 1.77315, saving model to /content/sample_data/model_checkpoint\n"
          ]
        },
        {
          "output_type": "stream",
          "name": "stderr",
          "text": [
            "WARNING:tensorflow:Skipping full serialization of Keras layer <keras.src.layers.regularization.dropout.Dropout object at 0x799d0cbecc40>, because it is not built.\n",
            "WARNING:tensorflow:Skipping full serialization of Keras layer <keras.src.layers.regularization.dropout.Dropout object at 0x799cf8265840>, because it is not built.\n",
            "WARNING:tensorflow:Skipping full serialization of Keras layer <keras.src.layers.regularization.dropout.Dropout object at 0x799cf86383a0>, because it is not built.\n",
            "WARNING:tensorflow:Skipping full serialization of Keras layer <keras.src.layers.regularization.dropout.Dropout object at 0x799cf863aec0>, because it is not built.\n",
            "WARNING:tensorflow:Skipping full serialization of Keras layer <keras.src.layers.regularization.dropout.Dropout object at 0x799cf8651a20>, because it is not built.\n",
            "WARNING:tensorflow:Skipping full serialization of Keras layer <keras.src.layers.regularization.dropout.Dropout object at 0x799cf8668580>, because it is not built.\n",
            " 10%|█         | 1/10 [01:00<09:04, 60.54s/epoch, loss=1.8, sparse_categorical_accuracy=0.17, val_loss=1.77, val_sparse_categorical_accuracy=0.24]"
          ]
        },
        {
          "output_type": "stream",
          "name": "stdout",
          "text": [
            "4/4 - 60s - loss: 1.7999 - sparse_categorical_accuracy: 0.1700 - val_loss: 1.7732 - val_sparse_categorical_accuracy: 0.2400 - 60s/epoch - 15s/step\n",
            "Epoch 2/10\n",
            "\n",
            "Epoch 2: val_loss did not improve from 1.77315\n"
          ]
        },
        {
          "output_type": "stream",
          "name": "stderr",
          "text": [
            " 20%|██        | 2/10 [01:01<03:24, 25.51s/epoch, loss=1.79, sparse_categorical_accuracy=0.17, val_loss=1.78, val_sparse_categorical_accuracy=0.24]"
          ]
        },
        {
          "output_type": "stream",
          "name": "stdout",
          "text": [
            "4/4 - 1s - loss: 1.7941 - sparse_categorical_accuracy: 0.1700 - val_loss: 1.7810 - val_sparse_categorical_accuracy: 0.2400 - 923ms/epoch - 231ms/step\n",
            "Epoch 3/10\n",
            "\n",
            "Epoch 3: val_loss did not improve from 1.77315\n"
          ]
        },
        {
          "output_type": "stream",
          "name": "stderr",
          "text": [
            " 30%|███       | 3/10 [01:02<01:39, 14.28s/epoch, loss=1.79, sparse_categorical_accuracy=0.17, val_loss=1.78, val_sparse_categorical_accuracy=0.24]"
          ]
        },
        {
          "output_type": "stream",
          "name": "stdout",
          "text": [
            "4/4 - 1s - loss: 1.7905 - sparse_categorical_accuracy: 0.1700 - val_loss: 1.7842 - val_sparse_categorical_accuracy: 0.2400 - 846ms/epoch - 212ms/step\n",
            "Epoch 4/10\n",
            "\n",
            "Epoch 4: val_loss did not improve from 1.77315\n"
          ]
        },
        {
          "output_type": "stream",
          "name": "stderr",
          "text": [
            " 40%|████      | 4/10 [01:03<00:54,  9.00s/epoch, loss=1.78, sparse_categorical_accuracy=0.15, val_loss=1.79, val_sparse_categorical_accuracy=0.24]"
          ]
        },
        {
          "output_type": "stream",
          "name": "stdout",
          "text": [
            "4/4 - 1s - loss: 1.7845 - sparse_categorical_accuracy: 0.1500 - val_loss: 1.7868 - val_sparse_categorical_accuracy: 0.2400 - 849ms/epoch - 212ms/step\n",
            "Epoch 5/10\n",
            "\n",
            "Epoch 5: val_loss did not improve from 1.77315\n"
          ]
        },
        {
          "output_type": "stream",
          "name": "stderr",
          "text": [
            " 50%|█████     | 5/10 [01:04<00:30,  6.09s/epoch, loss=1.79, sparse_categorical_accuracy=0.17, val_loss=1.79, val_sparse_categorical_accuracy=0.24]"
          ]
        },
        {
          "output_type": "stream",
          "name": "stdout",
          "text": [
            "4/4 - 1s - loss: 1.7936 - sparse_categorical_accuracy: 0.1700 - val_loss: 1.7907 - val_sparse_categorical_accuracy: 0.2400 - 864ms/epoch - 216ms/step\n",
            "Epoch 6/10\n",
            "\n",
            "Epoch 6: val_loss did not improve from 1.77315\n"
          ]
        },
        {
          "output_type": "stream",
          "name": "stderr",
          "text": [
            " 60%|██████    | 6/10 [01:05<00:17,  4.34s/epoch, loss=1.81, sparse_categorical_accuracy=0.18, val_loss=1.79, val_sparse_categorical_accuracy=0.24]"
          ]
        },
        {
          "output_type": "stream",
          "name": "stdout",
          "text": [
            "4/4 - 1s - loss: 1.8123 - sparse_categorical_accuracy: 0.1800 - val_loss: 1.7920 - val_sparse_categorical_accuracy: 0.2400 - 872ms/epoch - 218ms/step\n",
            "Epoch 7/10\n",
            "\n",
            "Epoch 7: val_loss did not improve from 1.77315\n"
          ]
        },
        {
          "output_type": "stream",
          "name": "stderr",
          "text": [
            " 70%|███████   | 7/10 [01:06<00:09,  3.24s/epoch, loss=1.82, sparse_categorical_accuracy=0.2, val_loss=1.79, val_sparse_categorical_accuracy=0.24] "
          ]
        },
        {
          "output_type": "stream",
          "name": "stdout",
          "text": [
            "4/4 - 1s - loss: 1.8150 - sparse_categorical_accuracy: 0.2000 - val_loss: 1.7938 - val_sparse_categorical_accuracy: 0.2400 - 901ms/epoch - 225ms/step\n",
            "Epoch 8/10\n",
            "\n",
            "Epoch 8: val_loss did not improve from 1.77315\n"
          ]
        },
        {
          "output_type": "stream",
          "name": "stderr",
          "text": [
            " 80%|████████  | 8/10 [01:07<00:05,  2.61s/epoch, loss=1.83, sparse_categorical_accuracy=0.17, val_loss=1.79, val_sparse_categorical_accuracy=0.24]"
          ]
        },
        {
          "output_type": "stream",
          "name": "stdout",
          "text": [
            "4/4 - 1s - loss: 1.8282 - sparse_categorical_accuracy: 0.1700 - val_loss: 1.7897 - val_sparse_categorical_accuracy: 0.2400 - 1s/epoch - 296ms/step\n",
            "Epoch 9/10\n",
            "\n",
            "Epoch 9: val_loss did not improve from 1.77315\n"
          ]
        },
        {
          "output_type": "stream",
          "name": "stderr",
          "text": [
            " 90%|█████████ | 9/10 [01:08<00:02,  2.22s/epoch, loss=1.79, sparse_categorical_accuracy=0.17, val_loss=1.78, val_sparse_categorical_accuracy=0.24]"
          ]
        },
        {
          "output_type": "stream",
          "name": "stdout",
          "text": [
            "4/4 - 1s - loss: 1.7939 - sparse_categorical_accuracy: 0.1700 - val_loss: 1.7772 - val_sparse_categorical_accuracy: 0.2400 - 1s/epoch - 317ms/step\n",
            "Epoch 10/10\n",
            "\n",
            "Epoch 10: val_loss did not improve from 1.77315\n"
          ]
        },
        {
          "output_type": "stream",
          "name": "stderr",
          "text": [
            "100%|██████████| 10/10 [01:11<00:00,  2.22s/epoch, loss=1.8, sparse_categorical_accuracy=0.17, val_loss=1.78, val_sparse_categorical_accuracy=0.24] "
          ]
        },
        {
          "output_type": "stream",
          "name": "stdout",
          "text": [
            "4/4 - 1s - loss: 1.8035 - sparse_categorical_accuracy: 0.1700 - val_loss: 1.7781 - val_sparse_categorical_accuracy: 0.2400 - 936ms/epoch - 234ms/step\n"
          ]
        },
        {
          "output_type": "stream",
          "name": "stderr",
          "text": [
            "\r100%|██████████| 10/10 [01:11<00:00,  7.11s/epoch, loss=1.8, sparse_categorical_accuracy=0.17, val_loss=1.78, val_sparse_categorical_accuracy=0.24]\n"
          ]
        }
      ],
      "source": [
        "print('Start training')\n",
        "progress_bar_callback = ProgressBarCallback()\n",
        "history = custom_model.fit(\n",
        "    train_dataset.shuffle(10000).batch(batch_size).prefetch(tf.data.AUTOTUNE),\n",
        "    epochs=num_epochs,\n",
        "    validation_data=val_dataset.batch(batch_size).prefetch(tf.data.AUTOTUNE),\n",
        "    verbose=2,\n",
        "    callbacks=[checkpoint_callback, progress_bar_callback]\n",
        ")"
      ]
    },
    {
      "cell_type": "code",
      "execution_count": 32,
      "id": "27d5ed1c",
      "metadata": {
        "id": "27d5ed1c",
        "colab": {
          "base_uri": "https://localhost:8080/"
        },
        "outputId": "8af68ba0-27dc-4a2e-9aea-469d9770cfc9"
      },
      "outputs": [
        {
          "output_type": "stream",
          "name": "stderr",
          "text": [
            "WARNING:tensorflow:Skipping full serialization of Keras layer <keras.src.layers.regularization.dropout.Dropout object at 0x799d0cbecc40>, because it is not built.\n",
            "WARNING:tensorflow:Skipping full serialization of Keras layer <keras.src.layers.regularization.dropout.Dropout object at 0x799cf8265840>, because it is not built.\n",
            "WARNING:tensorflow:Skipping full serialization of Keras layer <keras.src.layers.regularization.dropout.Dropout object at 0x799cf86383a0>, because it is not built.\n",
            "WARNING:tensorflow:Skipping full serialization of Keras layer <keras.src.layers.regularization.dropout.Dropout object at 0x799cf863aec0>, because it is not built.\n",
            "WARNING:tensorflow:Skipping full serialization of Keras layer <keras.src.layers.regularization.dropout.Dropout object at 0x799cf8651a20>, because it is not built.\n",
            "WARNING:tensorflow:Skipping full serialization of Keras layer <keras.src.layers.regularization.dropout.Dropout object at 0x799cf8668580>, because it is not built.\n"
          ]
        }
      ],
      "source": [
        "# Save the trained model if needed\n",
        "custom_model.save(os.path.join(BASE_DIR, 'trained_model'))"
      ]
    },
    {
      "cell_type": "code",
      "source": [
        "from keras.utils import Progbar\n",
        "\n",
        "# Tokenize and preprocess the test data\n",
        "test_encoded_statement_data = tokenizer(\n",
        "    test['statement'].tolist(),\n",
        "    padding=True,\n",
        "    truncation=True,\n",
        "    return_tensors='tf'\n",
        ")\n",
        "test['label_encoded'] = train['label'].map(label_mapping)\n",
        "\n",
        "# Create TensorFlow dataset for testing\n",
        "test_dataset = tf.data.Dataset.from_tensor_slices((\n",
        "    {\n",
        "        'input_ids': test_encoded_statement_data['input_ids'],\n",
        "        'attention_mask': test_encoded_statement_data['attention_mask']\n",
        "    },\n",
        "    test['label_encoded']\n",
        "))\n",
        "# limited_test_dataset = test_dataset.take(limit)\n",
        "test_steps = len(test_dataset)\n",
        "progbar = Progbar(test_steps)\n",
        "\n",
        "# Evaluate the model on the test dataset\n",
        "with strategy.scope():\n",
        "  results = custom_model.evaluate(test_dataset.batch(batch_size).prefetch(tf.data.AUTOTUNE))\n",
        "\n",
        "# Display the results and update the progress bar\n",
        "for metric_name, result in zip(custom_model.metrics_names, results):\n",
        "    print(f'{metric_name}: {result}')\n",
        "\n",
        "    # Update progress bar\n",
        "    progbar.update(1)\n",
        "# Print the evaluation results (including accuracy)\n",
        "print(\"Test Loss:\", results[0])\n",
        "print(\"Test Accuracy:\", results[1])\n",
        "\n"
      ],
      "metadata": {
        "id": "aliO9ePe7IqA",
        "colab": {
          "base_uri": "https://localhost:8080/"
        },
        "outputId": "7bf8d2a0-0615-417e-b78e-92b2226ade0c"
      },
      "id": "aliO9ePe7IqA",
      "execution_count": 33,
      "outputs": [
        {
          "output_type": "stream",
          "name": "stdout",
          "text": [
            "40/40 [==============================] - 16s 349ms/step - loss: nan - sparse_categorical_accuracy: 0.0134\n",
            "loss: nan\n",
            "   1/1268 [..............................] - ETA: 7:50:27sparse_categorical_accuracy: 0.013406939804553986\n",
            "Test Loss: nan\n",
            "Test Accuracy: 0.013406939804553986\n"
          ]
        }
      ]
    },
    {
      "cell_type": "code",
      "execution_count": 34,
      "metadata": {
        "id": "7Qv8rC4aVOFB"
      },
      "outputs": [],
      "source": [
        "# final_accuracy = history.history[][-5:]\n",
        "# print(\"FINAL ACCURACY MEAN-5: \", np.mean(final_accuracy))"
      ],
      "id": "7Qv8rC4aVOFB"
    }
  ],
  "metadata": {
    "jupytext": {
      "cell_metadata_filter": "-all",
      "main_language": "python",
      "notebook_metadata_filter": "-all"
    },
    "colab": {
      "provenance": [],
      "gpuType": "T4",
      "include_colab_link": true
    },
    "language_info": {
      "name": "python"
    },
    "kernelspec": {
      "name": "python3",
      "display_name": "Python 3"
    },
    "accelerator": "GPU"
  },
  "nbformat": 4,
  "nbformat_minor": 5
}