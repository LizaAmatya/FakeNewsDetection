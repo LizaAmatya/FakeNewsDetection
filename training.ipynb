{
  "cells": [
    {
      "cell_type": "code",
      "source": [
        "# @title\n",
        "!pip install -r https://raw.githubusercontent.com/LizaAmatya/FakeNewsDetection/main/requirements.txt?token=GHSAT0AAAAAACJI6OXTVIRQEN524EL4R3GIZLDRYUA"
      ],
      "metadata": {
        "id": "VSUf5LWBtllU"
      },
      "id": "VSUf5LWBtllU",
      "execution_count": null,
      "outputs": []
    },
    {
      "cell_type": "code",
      "execution_count": null,
      "id": "0090000b",
      "metadata": {
        "lines_to_next_cell": 2,
        "id": "0090000b"
      },
      "outputs": [],
      "source": [
        "# @title\n",
        "import os\n",
        "import pandas as pd\n",
        "import tensorflow as tf\n",
        "import tensorflow_text\n",
        "from transformers import BertTokenizer, TFBertForSequenceClassification, DistilBertTokenizer, TFDistilBertForSequenceClassification\n",
        "from tensorflow.keras.utils import to_categorical\n",
        "import numpy as np"
      ]
    },
    {
      "cell_type": "code",
      "source": [
        "from google.colab import drive\n",
        "drive.mount('/content/drive')"
      ],
      "metadata": {
        "id": "0nuL56xz2uKl"
      },
      "id": "0nuL56xz2uKl",
      "execution_count": null,
      "outputs": []
    },
    {
      "cell_type": "code",
      "source": [
        "from tensorflow.keras import mixed_precision\n",
        "mixed_precision.set_global_policy('mixed_float16')"
      ],
      "metadata": {
        "id": "9C_enaHoSOjn"
      },
      "id": "9C_enaHoSOjn",
      "execution_count": null,
      "outputs": []
    },
    {
      "cell_type": "code",
      "execution_count": null,
      "id": "10395a28",
      "metadata": {
        "id": "10395a28"
      },
      "outputs": [],
      "source": [
        "# BASE_DIR = os.path.dirname(os.path.abspath(__file__))\n",
        "BASE_DIR = \"/content/sample_data\""
      ]
    },
    {
      "cell_type": "code",
      "execution_count": null,
      "id": "2014893a",
      "metadata": {
        "id": "2014893a"
      },
      "outputs": [],
      "source": [
        "os.environ[\"TF_AUTOTUNE\"] = \"1\"\n",
        "tf.keras.backend.set_floatx('float16')"
      ]
    },
    {
      "cell_type": "code",
      "execution_count": null,
      "id": "5175731e",
      "metadata": {
        "id": "5175731e"
      },
      "outputs": [],
      "source": [
        "# # Enable autotuning\n",
        "# tf.config.threading.set_intra_op_parallelism_threads(1)\n",
        "# tf.config.threading.set_inter_op_parallelism_threads(1)\n",
        "# tf.config.threading.set_intra_op_parallelism_threads(1)\n",
        "# tf.config.threading.set_inter_op_parallelism_threads(1)"
      ]
    },
    {
      "cell_type": "code",
      "execution_count": null,
      "id": "3b8bd522",
      "metadata": {
        "id": "3b8bd522"
      },
      "outputs": [],
      "source": [
        "train_path = os.path.join(BASE_DIR, 'dataset/train.tsv')\n",
        "test_path = os.path.join(BASE_DIR, 'dataset/test.tsv')\n",
        "validation_path = os.path.join(BASE_DIR, 'dataset/validation.tsv')"
      ]
    },
    {
      "cell_type": "code",
      "execution_count": null,
      "id": "ae948410",
      "metadata": {
        "id": "ae948410"
      },
      "outputs": [],
      "source": [
        "column_labels = ['row', 'json_ids', 'label', 'statement', 'subject', 'speaker', 'job_title', 'state', 'affiliation', 'barely_true_counts', 'false_counts', 'half_true_counts', 'mostly_true_counts', 'lies_counts', 'context', 'justification']"
      ]
    },
    {
      "cell_type": "code",
      "execution_count": null,
      "id": "b8a418a8",
      "metadata": {
        "id": "b8a418a8"
      },
      "outputs": [],
      "source": [
        "# Data Frames\n",
        "train = pd.read_csv(train_path, sep=\"\\t\", header=None, names=column_labels)\n",
        "test = pd.read_csv(test_path, sep=\"\\t\", header=None, names=column_labels)\n",
        "valid = pd.read_csv(validation_path, sep=\"\\t\", header=None, names=column_labels)"
      ]
    },
    {
      "cell_type": "code",
      "execution_count": null,
      "id": "beb3f7eb",
      "metadata": {
        "lines_to_next_cell": 2,
        "id": "beb3f7eb"
      },
      "outputs": [],
      "source": [
        "# Fill nan (empty boxes) with 0\n",
        "train = train.fillna('None')\n",
        "test = test.fillna('None')\n",
        "val = valid.fillna('None')\n",
        "print(train['label'])\n",
        "print(val['label'])"
      ]
    },
    {
      "cell_type": "code",
      "execution_count": null,
      "id": "79d60030",
      "metadata": {
        "id": "79d60030",
        "colab": {
          "base_uri": "https://localhost:8080/"
        },
        "outputId": "336a6ed0-0943-4ea8-8971-c42ef763b682"
      },
      "outputs": [
        {
          "output_type": "stream",
          "name": "stdout",
          "text": [
            "{'false': 0, 'half-true': 1, 'mostly-true': 2, 'true': 3, 'barely-true': 4, 'pants-fire': 5}\n"
          ]
        }
      ],
      "source": [
        "labels = train['label']\n",
        "label_mapping = {label: idx for idx, label in enumerate(labels.unique())}\n",
        "label_mapping.update({'pants-fire':5})\n",
        "\n",
        "num_of_classes=len(label_mapping)\n",
        "train = train[:100]\n",
        "val = val[:50]\n",
        "# print(num_of_classes)"
      ]
    },
    {
      "cell_type": "code",
      "execution_count": null,
      "id": "594b2c7b",
      "metadata": {
        "id": "594b2c7b"
      },
      "outputs": [],
      "source": [
        "train['label_encoded'] = train['label'].map(label_mapping)\n",
        "print(train['label_encoded'])"
      ]
    },
    {
      "cell_type": "code",
      "execution_count": null,
      "id": "25df0660",
      "metadata": {
        "id": "25df0660"
      },
      "outputs": [],
      "source": [
        "val['label_encoded'] = val['label'].map(label_mapping)\n",
        "print(val['label_encoded'])"
      ]
    },
    {
      "cell_type": "code",
      "source": [
        "# train_one_hot_labels = to_categorical(train['label_encoded'], num_classes=num_of_classes)\n",
        "# val_one_hot_labels = to_categorical(val['label_encoded'], num_classes=num_of_classes)"
      ],
      "metadata": {
        "id": "1O1YI2HrFoyH"
      },
      "id": "1O1YI2HrFoyH",
      "execution_count": null,
      "outputs": []
    },
    {
      "cell_type": "code",
      "execution_count": null,
      "id": "6166be7f",
      "metadata": {
        "id": "6166be7f"
      },
      "outputs": [],
      "source": [
        "# model_name = 'experts_wiki_books'\n",
        "# model_name = 'bert-base-uncased'\n",
        "model_name = 'distilbert-base-uncased'\n",
        "# tokenizer = BertTokenizer.from_pretrained(model_name, max_length=128)\n",
        "tokenizer = DistilBertTokenizer.from_pretrained(model_name, max_length=128)\n",
        "vocab_size = 10000\n",
        "embedding_dim = 32"
      ]
    },
    {
      "cell_type": "code",
      "execution_count": null,
      "id": "11a7bc0c",
      "metadata": {
        "id": "11a7bc0c"
      },
      "outputs": [],
      "source": [
        "# Create a custom embedding layer\n",
        "# custom_embedding_layer = tf.keras.layers.Embedding(input_dim=vocab_size, output_dim=embedding_dim)"
      ]
    },
    {
      "cell_type": "code",
      "execution_count": null,
      "id": "a7c84152",
      "metadata": {
        "id": "a7c84152"
      },
      "outputs": [],
      "source": [
        "# Only using statement data at first\n",
        "# Tokenize the statement data\n",
        "train_encoded_statement_data = tokenizer(\n",
        "    train['statement'].to_list(),\n",
        "    padding=True,\n",
        "    truncation=True,\n",
        "    max_length=128,\n",
        "    return_tensors='tf'\n",
        ")\n",
        "\n",
        "print(train_encoded_statement_data)"
      ]
    },
    {
      "cell_type": "markdown",
      "id": "1628a3a2",
      "metadata": {
        "id": "1628a3a2"
      },
      "source": [
        "train_labels = train['label'].tolist()"
      ]
    },
    {
      "cell_type": "code",
      "execution_count": null,
      "id": "ffca59d5",
      "metadata": {
        "id": "ffca59d5"
      },
      "outputs": [],
      "source": [
        "val_encoded_statement_data = tokenizer(\n",
        "    val['statement'].tolist(),\n",
        "    padding=True,\n",
        "    truncation=True,\n",
        "    return_tensors='tf'\n",
        ")"
      ]
    },
    {
      "cell_type": "markdown",
      "id": "2053b268",
      "metadata": {
        "id": "2053b268"
      },
      "source": [
        "val_labels = val['label'].tolist()"
      ]
    },
    {
      "cell_type": "code",
      "execution_count": null,
      "id": "8dca3abc",
      "metadata": {
        "id": "8dca3abc"
      },
      "outputs": [],
      "source": [
        "# Create TensorFlow dataset for training\n",
        "train_dataset = tf.data.Dataset.from_tensor_slices((\n",
        "    {\n",
        "        'input_ids': train_encoded_statement_data['input_ids'],\n",
        "        'attention_mask': train_encoded_statement_data['attention_mask']\n",
        "    },\n",
        "    train['label_encoded'] ))  # using one-hot encoded labels when CategoricalCrossEntropy used,\n",
        "                            # and when using SparseCrossEntropy use train['label_encoded'] which is int rep for labels : 0, 1, 2 ..5"
      ]
    },
    {
      "cell_type": "code",
      "execution_count": null,
      "id": "3141466a",
      "metadata": {
        "id": "3141466a"
      },
      "outputs": [],
      "source": [
        "val_dataset = tf.data.Dataset.from_tensor_slices((\n",
        "    {\n",
        "        'input_ids': val_encoded_statement_data['input_ids'],\n",
        "        'attention_mask': val_encoded_statement_data['attention_mask']\n",
        "    },\n",
        "    val['label_encoded'] ))  # using one-hot encoded labels when CategoricalCrossEntropy used,\n",
        "                            # and when using SparseCrossEntropy use train['label_encoded'] which is int rep for labels : 0, 1, 2 ..5"
      ]
    },
    {
      "cell_type": "code",
      "execution_count": null,
      "id": "e384fa59",
      "metadata": {
        "id": "e384fa59"
      },
      "outputs": [],
      "source": [
        "# Limiting the dataset\n",
        "limit = 10\n",
        "limited_train_dataset = train_dataset.take(limit)"
      ]
    },
    {
      "cell_type": "code",
      "execution_count": null,
      "id": "e9bdd426",
      "metadata": {
        "id": "e9bdd426"
      },
      "outputs": [],
      "source": [
        "# model = TFBertForSequenceClassification.from_pretrained(model_name)\n",
        "model = TFDistilBertForSequenceClassification.from_pretrained(model_name)"
      ]
    },
    {
      "cell_type": "code",
      "execution_count": null,
      "id": "b518ae07",
      "metadata": {
        "id": "b518ae07"
      },
      "outputs": [],
      "source": [
        "num_epochs = 1\n",
        "batch_size = 32"
      ]
    },
    {
      "cell_type": "code",
      "execution_count": null,
      "id": "35146986",
      "metadata": {
        "id": "35146986"
      },
      "outputs": [],
      "source": [
        "# # Create a new model with the BERT base and the custom output layer\n",
        "\n",
        "input_ids = tf.keras.layers.Input(shape=(None,), dtype=tf.int32, name='input_ids')\n",
        "attention_mask = tf.keras.layers.Input(shape=(None,), dtype=tf.int32, name='attention_mask')"
      ]
    },
    {
      "cell_type": "markdown",
      "id": "2b836c7d",
      "metadata": {
        "id": "2b836c7d"
      },
      "source": [
        "Custom embedding layer"
      ]
    },
    {
      "cell_type": "markdown",
      "id": "3b752035",
      "metadata": {
        "id": "3b752035"
      },
      "source": [
        "custom_embeddings = custom_embedding_layer(input_ids)"
      ]
    },
    {
      "cell_type": "code",
      "execution_count": null,
      "id": "e74afa49",
      "metadata": {
        "id": "e74afa49"
      },
      "outputs": [],
      "source": [
        "# Adding a dense layer for the output\n",
        "dense_layer = tf.keras.layers.Dense(num_of_classes, activation='softmax', name='dense_output')\n",
        "bert_output = model([input_ids, attention_mask])\n",
        "cls_token = bert_output.logits\n",
        "dense_output = dense_layer(cls_token)\n",
        "# dense_output_expanded = tf.keras.layers.Reshape((1, 6))(dense_output)"
      ]
    },
    {
      "cell_type": "code",
      "execution_count": null,
      "id": "e98178aa",
      "metadata": {
        "id": "e98178aa"
      },
      "outputs": [],
      "source": [
        "# combined_embeddings = tf.keras.layers.Concatenate(axis=-1)([dense_output_expanded, custom_embeddings])\n",
        "output = tf.keras.layers.Dense(num_of_classes, activation='softmax')(dense_output)"
      ]
    },
    {
      "cell_type": "code",
      "execution_count": null,
      "id": "5de23a06",
      "metadata": {
        "id": "5de23a06"
      },
      "outputs": [],
      "source": [
        "# Create the final model\n",
        "custom_model = tf.keras.Model(inputs=model.input, outputs=output)"
      ]
    },
    {
      "cell_type": "code",
      "execution_count": null,
      "id": "c2cb8151",
      "metadata": {
        "id": "c2cb8151"
      },
      "outputs": [],
      "source": [
        "custom_model.compile(optimizer=tf.keras.optimizers.Adam(learning_rate=1e-3),\n",
        "            loss=tf.keras.losses.SparseCategoricalCrossentropy(),        #BinaryCrossEntropy for binary classification; for now lets only classify acc to data: 6 classes\n",
        "            metrics=tf.keras.metrics.SparseCategoricalAccuracy())  # or use ['accuracy']"
      ]
    },
    {
      "cell_type": "code",
      "execution_count": null,
      "id": "6f807bea",
      "metadata": {
        "id": "6f807bea"
      },
      "outputs": [],
      "source": [
        "custom_model.summary()"
      ]
    },
    {
      "cell_type": "code",
      "execution_count": null,
      "id": "12c663b6",
      "metadata": {
        "id": "12c663b6"
      },
      "outputs": [],
      "source": [
        "checkpoint_callback = tf.keras.callbacks.ModelCheckpoint(\n",
        "    filepath=os.path.join(BASE_DIR, 'model_checkpoint'),  # Specify the path to save the checkpoint\n",
        "    save_best_only=True,  # Save only the best model based on the validation loss\n",
        "    monitor='val_loss',  # Monitor the validation loss\n",
        "    mode='min',  # Mode can be 'min' or 'max' depending on the monitored metric\n",
        "    verbose=1  # Show progress while saving\n",
        ")"
      ]
    },
    {
      "cell_type": "code",
      "source": [
        "from tqdm import tqdm\n",
        "from tensorflow.keras.callbacks import Callback\n",
        "\n",
        "train_steps_per_epoch = len(limited_train_dataset)\n",
        "tqdm_callback = tf.keras.callbacks.LambdaCallback(\n",
        "    on_epoch_begin=lambda epoch, logs: tqdm(total=train_steps_per_epoch, position=0, desc=\"Epoch\", unit=\"batch\"),\n",
        "    on_epoch_end=lambda epoch, logs: tqdm.write(f'Epoch {epoch + 1}/{num_epochs}, Loss: {logs[\"loss\"]}, Accuracy: {logs[\"sparse_categorical_accuracy\"]}, Val Loss: {logs[\"val_loss\"]}, Val Accuracy: {logs[\"val_sparse_categorical_accuracy\"]}'),\n",
        "    on_batch_end=lambda batch, logs: tqdm.update(1)\n",
        ")\n",
        "\n",
        "class ProgressBarCallback(Callback):\n",
        "    def on_epoch_end(self, epoch, logs=None):\n",
        "        logs = logs or {}\n",
        "        self.epochs += 1\n",
        "        self.pbar.update(1)\n",
        "        self.pbar.set_postfix(logs, refresh=True)\n",
        "\n",
        "    def on_train_begin(self, logs=None):\n",
        "        self.epochs = 0\n",
        "        self.pbar = tqdm(total=self.params['epochs'], unit='epoch', position=0)\n",
        "\n",
        "    def on_train_end(self, logs=None):\n",
        "        self.pbar.close()"
      ],
      "metadata": {
        "id": "G_Yzo60DERzH"
      },
      "id": "G_Yzo60DERzH",
      "execution_count": null,
      "outputs": []
    },
    {
      "cell_type": "code",
      "execution_count": null,
      "id": "ab08e7ac",
      "metadata": {
        "id": "ab08e7ac"
      },
      "outputs": [],
      "source": [
        "print('Start training')\n",
        "progress_bar_callback = ProgressBarCallback()\n",
        "history = custom_model.fit(\n",
        "    limited_train_dataset.shuffle(10).batch(batch_size).prefetch(tf.data.AUTOTUNE),\n",
        "    epochs=num_epochs,\n",
        "    validation_data=val_dataset.batch(batch_size).prefetch(tf.data.AUTOTUNE),\n",
        "    verbose=2,\n",
        "    callbacks=[checkpoint_callback, progress_bar_callback]\n",
        ")"
      ]
    },
    {
      "cell_type": "code",
      "execution_count": null,
      "id": "27d5ed1c",
      "metadata": {
        "id": "27d5ed1c"
      },
      "outputs": [],
      "source": [
        "# Save the trained model if needed\n",
        "custom_model.save(os.path.join(BASE_DIR, 'trained_model'))"
      ]
    },
    {
      "cell_type": "code",
      "source": [
        "from keras.utils import Progbar\n",
        "\n",
        "# Tokenize and preprocess the test data\n",
        "test_encoded_statement_data = tokenizer(\n",
        "    test['statement'].tolist(),\n",
        "    padding=True,\n",
        "    truncation=True,\n",
        "    return_tensors='tf'\n",
        ")\n",
        "test['label_encoded'] = train['label'].map(label_mapping)\n",
        "\n",
        "# Create TensorFlow dataset for testing\n",
        "test_dataset = tf.data.Dataset.from_tensor_slices((\n",
        "    {\n",
        "        'input_ids': test_encoded_statement_data['input_ids'],\n",
        "        'attention_mask': test_encoded_statement_data['attention_mask']\n",
        "    },\n",
        "    test['label_encoded']\n",
        "))\n",
        "limited_test_dataset = test_dataset.take(limit)\n",
        "test_steps = len(limited_test_dataset)\n",
        "progbar = Progbar(test_steps)\n",
        "\n",
        "# Evaluate the model on the test dataset\n",
        "results = custom_model.evaluate(limited_test_dataset.batch(batch_size).prefetch(tf.data.AUTOTUNE))\n",
        "\n",
        "# Display the results and update the progress bar\n",
        "for metric_name, result in zip(custom_model.metrics_names, results):\n",
        "    print(f'{metric_name}: {result}')\n",
        "\n",
        "    # Update progress bar\n",
        "    progbar.update(1)\n",
        "# Print the evaluation results (including accuracy)\n",
        "print(\"Test Loss:\", results[0])\n",
        "print(\"Test Accuracy:\", results[1])"
      ],
      "metadata": {
        "id": "aliO9ePe7IqA"
      },
      "id": "aliO9ePe7IqA",
      "execution_count": null,
      "outputs": []
    }
  ],
  "metadata": {
    "jupytext": {
      "cell_metadata_filter": "-all",
      "main_language": "python",
      "notebook_metadata_filter": "-all"
    },
    "colab": {
      "provenance": []
    },
    "language_info": {
      "name": "python"
    },
    "kernelspec": {
      "name": "python3",
      "display_name": "Python 3"
    },
    "accelerator": "TPU"
  },
  "nbformat": 4,
  "nbformat_minor": 5
}