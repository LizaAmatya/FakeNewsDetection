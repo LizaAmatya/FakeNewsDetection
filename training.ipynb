{
  "cells": [
    {
      "cell_type": "code",
      "execution_count": null,
      "metadata": {
        "collapsed": true,
        "id": "VSUf5LWBtllU"
      },
      "outputs": [],
      "source": [
        "# @title\n",
        "!pip install -r https://raw.githubusercontent.com/LizaAmatya/FakeNewsDetection/main/requirements.txt?token=GHSAT0AAAAAACJI6OXTY5SAB4ACBMT2IEH2ZLJCTFQ"
      ],
      "id": "VSUf5LWBtllU"
    },
    {
      "cell_type": "code",
      "execution_count": null,
      "metadata": {
        "colab": {
          "background_save": true
        },
        "id": "5BvPaRfxmgYX"
      },
      "outputs": [],
      "source": [
        "!pip install matplotlib"
      ],
      "id": "5BvPaRfxmgYX"
    },
    {
      "cell_type": "code",
      "execution_count": null,
      "metadata": {
        "id": "0090000b"
      },
      "outputs": [],
      "source": [
        "# @title\n",
        "import os\n",
        "import pandas as pd\n",
        "import tensorflow as tf\n",
        "# import tensorflow_text\n",
        "from transformers import BertTokenizer, TFBertForSequenceClassification, DistilBertTokenizer, TFDistilBertForSequenceClassification\n",
        "from tensorflow.keras.utils import to_categorical\n",
        "import numpy as np\n",
        "from tensorflow.keras.layers import Input\n"
      ],
      "id": "0090000b"
    },
    {
      "cell_type": "code",
      "execution_count": null,
      "metadata": {
        "id": "2014893a"
      },
      "outputs": [],
      "source": [
        "# os.environ[\"TF_AUTOTUNE\"] = \"1\"\n",
        "# tf.keras.backend.set_floatx('float16')\n",
        "mirrored_strategy = tf.distribute.MirroredStrategy(devices=[\"/gpu:0\", \"/gpu:1\",\"/gpu:2\", \"/gpu:3\"])"
      ],
      "id": "2014893a"
    },
    {
      "cell_type": "code",
      "execution_count": null,
      "metadata": {
        "id": "E8gMLgTcrmIi"
      },
      "outputs": [],
      "source": [
        "# try:\n",
        "#   tpu = tf.distribute.cluster_resolver.TPUClusterResolver()  # TPU detection\n",
        "#   print('Running on TPU ', tpu.cluster_spec().as_dict()['worker'])\n",
        "# except ValueError:\n",
        "#   raise BaseException('ERROR: Not connected to a TPU runtime; please see the previous cell in this notebook for instructions!')\n",
        "\n",
        "# tf.config.run_functions_eagerly(True)\n",
        "# tf.config.experimental_connect_to_cluster(tpu)\n",
        "# tf.tpu.experimental.initialize_tpu_system(tpu)\n",
        "# tpu_strategy = tf.distribute.TPUStrategy(tpu)\n",
        "# print(\"All devices: \", tf.config.list_logical_devices())"
      ],
      "id": "E8gMLgTcrmIi"
    },
    {
      "cell_type": "code",
      "execution_count": null,
      "metadata": {
        "id": "0nuL56xz2uKl"
      },
      "outputs": [],
      "source": [
        "# from google.colab import drive\n",
        "# drive.mount('/content/drive')"
      ],
      "id": "0nuL56xz2uKl"
    },
    {
      "cell_type": "code",
      "execution_count": null,
      "metadata": {
        "id": "10395a28"
      },
      "outputs": [],
      "source": [
        "# BASE_DIR = os.path.dirname(os.path.abspath(__file__))\n",
        "BASE_DIR = \"/content/sample_data\""
      ],
      "id": "10395a28"
    },
    {
      "cell_type": "code",
      "execution_count": null,
      "metadata": {
        "id": "3b8bd522"
      },
      "outputs": [],
      "source": [
        "train_path = os.path.join(BASE_DIR, 'dataset/train.tsv')\n",
        "test_path = os.path.join(BASE_DIR, 'dataset/test.tsv')\n",
        "validation_path = os.path.join(BASE_DIR, 'dataset/validation.tsv')"
      ],
      "id": "3b8bd522"
    },
    {
      "cell_type": "code",
      "execution_count": null,
      "metadata": {
        "id": "ae948410"
      },
      "outputs": [],
      "source": [
        "column_labels = ['row', 'json_ids', 'label', 'statement', 'subject', 'speaker', 'job_title', 'state', 'affiliation', 'barely_true_counts', 'false_counts', 'half_true_counts', 'mostly_true_counts', 'lies_counts', 'context', 'justification']"
      ],
      "id": "ae948410"
    },
    {
      "cell_type": "code",
      "execution_count": null,
      "metadata": {
        "id": "b8a418a8"
      },
      "outputs": [],
      "source": [
        "# Data Frames\n",
        "train = pd.read_csv(train_path, sep=\"\\t\", header=None, names=column_labels)\n",
        "test = pd.read_csv(test_path, sep=\"\\t\", header=None, names=column_labels)\n",
        "valid = pd.read_csv(validation_path, sep=\"\\t\", header=None, names=column_labels)"
      ],
      "id": "b8a418a8"
    },
    {
      "cell_type": "code",
      "execution_count": null,
      "metadata": {
        "id": "beb3f7eb"
      },
      "outputs": [],
      "source": [
        "# Fill nan (empty boxes) with 0\n",
        "train = train.fillna('None')\n",
        "test = test.fillna('None')\n",
        "val = valid.fillna('None')\n"
      ],
      "id": "beb3f7eb"
    },
    {
      "cell_type": "code",
      "execution_count": null,
      "metadata": {
        "id": "79d60030"
      },
      "outputs": [],
      "source": [
        "labels = train['label']\n",
        "label_mapping = {label: idx for idx, label in enumerate(labels.unique())}\n",
        "label_mapping.update({'pants-fire':5})\n",
        "\n",
        "num_of_classes=len(label_mapping)\n"
      ],
      "id": "79d60030"
    },
    {
      "cell_type": "code",
      "execution_count": null,
      "metadata": {
        "id": "594b2c7b"
      },
      "outputs": [],
      "source": [
        "train['label_encoded'] = train['label'].map(label_mapping)"
      ],
      "id": "594b2c7b"
    },
    {
      "cell_type": "code",
      "execution_count": null,
      "metadata": {
        "id": "25df0660"
      },
      "outputs": [],
      "source": [
        "val['label_encoded'] = val['label'].map(label_mapping)"
      ],
      "id": "25df0660"
    },
    {
      "cell_type": "code",
      "execution_count": null,
      "metadata": {
        "colab": {
          "background_save": true,
          "referenced_widgets": [
            "bf1e9d4229434fa2ab9864d278f56031",
            "0e517cbecced4b6db3968c8bf853d6a2",
            "71e2e528ff644ab695b6baff34046b48",
            "04a7b96bead441feb6bf0a9946392f10"
          ]
        },
        "id": "6166be7f",
        "outputId": "75c9db68-ce30-45e6-b284-09528f303e49"
      },
      "outputs": [
        {
          "data": {
            "application/vnd.jupyter.widget-view+json": {
              "model_id": "bf1e9d4229434fa2ab9864d278f56031",
              "version_major": 2,
              "version_minor": 0
            },
            "text/plain": [
              "tokenizer_config.json:   0%|          | 0.00/28.0 [00:00<?, ?B/s]"
            ]
          },
          "metadata": {},
          "output_type": "display_data"
        },
        {
          "data": {
            "application/vnd.jupyter.widget-view+json": {
              "model_id": "0e517cbecced4b6db3968c8bf853d6a2",
              "version_major": 2,
              "version_minor": 0
            },
            "text/plain": [
              "vocab.txt:   0%|          | 0.00/232k [00:00<?, ?B/s]"
            ]
          },
          "metadata": {},
          "output_type": "display_data"
        },
        {
          "data": {
            "application/vnd.jupyter.widget-view+json": {
              "model_id": "71e2e528ff644ab695b6baff34046b48",
              "version_major": 2,
              "version_minor": 0
            },
            "text/plain": [
              "tokenizer.json:   0%|          | 0.00/466k [00:00<?, ?B/s]"
            ]
          },
          "metadata": {},
          "output_type": "display_data"
        },
        {
          "data": {
            "application/vnd.jupyter.widget-view+json": {
              "model_id": "04a7b96bead441feb6bf0a9946392f10",
              "version_major": 2,
              "version_minor": 0
            },
            "text/plain": [
              "config.json:   0%|          | 0.00/483 [00:00<?, ?B/s]"
            ]
          },
          "metadata": {},
          "output_type": "display_data"
        }
      ],
      "source": [
        "# model_name = 'bert-base-uncased'\n",
        "model_name = 'distilbert-base-uncased'\n",
        "# tokenizer = BertTokenizer.from_pretrained(model_name, max_length=128)\n",
        "tokenizer = DistilBertTokenizer.from_pretrained(model_name, max_length=128)\n"
      ],
      "id": "6166be7f"
    },
    {
      "cell_type": "code",
      "execution_count": null,
      "metadata": {
        "colab": {
          "background_save": true
        },
        "id": "a7c84152"
      },
      "outputs": [],
      "source": [
        "# Tokenize statement and metadata\n",
        "train_encoded_statement_data = tokenizer(\n",
        "    train['statement'].to_list(),\n",
        "    padding='max_length',\n",
        "    truncation=True,\n",
        "    max_length=128,\n",
        "    return_tensors='tf'\n",
        ")\n",
        "train['metadata'] = train['subject'].astype(str) + ' ' + train['speaker'].astype(str) + ' ' + train['job_title'].astype(str) + ' ' + train['state'].astype(str) + ' ' + train['affiliation'].astype(str) + ' ' + train['context'].astype(str)\n",
        "\n",
        "train_encoded_metadata = tokenizer(\n",
        "    train['metadata'].to_list(),\n",
        "    padding='max_length',\n",
        "    truncation=True,\n",
        "    max_length=128,\n",
        "    return_tensors='tf'\n",
        ")\n",
        "\n",
        "# print(train_encoded_statement_data['input_ids'].shape)\n",
        "# print(train_encoded_metadata['input_ids'].shape)"
      ],
      "id": "a7c84152"
    },
    {
      "cell_type": "code",
      "execution_count": null,
      "metadata": {
        "colab": {
          "background_save": true
        },
        "id": "ffca59d5"
      },
      "outputs": [],
      "source": [
        "val_encoded_statement_data = tokenizer(\n",
        "    val['statement'].tolist(),\n",
        "    padding='max_length',\n",
        "    truncation=True,\n",
        "    max_length=128,\n",
        "    return_tensors='tf'\n",
        ")\n",
        "val['metadata'] = val['subject'].astype(str) + ' ' + val['speaker'].astype(str) + ' ' + val['job_title'].astype(str) + ' ' + val['state'].astype(str) + ' ' + val['affiliation'].astype(str) + ' ' + val['context'].astype(str)\n",
        "\n",
        "val_encoded_metadata = tokenizer(\n",
        "    val['metadata'].to_list(),\n",
        "    padding='max_length',\n",
        "    truncation=True,\n",
        "    max_length=128,\n",
        "    return_tensors='tf'\n",
        ")\n",
        "# print(val_encoded_statement_data['input_ids'].shape)\n",
        "# print(val_encoded_metadata['input_ids'].shape)"
      ],
      "id": "ffca59d5"
    },
    {
      "cell_type": "code",
      "execution_count": null,
      "metadata": {
        "colab": {
          "background_save": true
        },
        "id": "8dca3abc"
      },
      "outputs": [],
      "source": [
        "# Create TensorFlow dataset for training\n",
        "train_dataset = tf.data.Dataset.from_tensor_slices((\n",
        "    {\n",
        "        'input_ids': train_encoded_statement_data['input_ids'],\n",
        "        'attention_mask': train_encoded_statement_data['attention_mask'],\n",
        "        'input_ids_metadata': train_encoded_metadata['input_ids'],\n",
        "        'attention_mask_metadata': train_encoded_metadata['attention_mask']\n",
        "    },\n",
        "    train['label_encoded'] ))  # using one-hot encoded labels when CategoricalCrossEntropy used,\n",
        "                            # and when using SparseCrossEntropy use train['label_encoded'] which is int rep for labels : 0, 1, 2 ..5"
      ],
      "id": "8dca3abc"
    },
    {
      "cell_type": "code",
      "execution_count": null,
      "metadata": {
        "colab": {
          "background_save": true
        },
        "id": "3141466a"
      },
      "outputs": [],
      "source": [
        "val_dataset = tf.data.Dataset.from_tensor_slices((\n",
        "    {\n",
        "        'input_ids': val_encoded_statement_data['input_ids'],\n",
        "        'attention_mask': val_encoded_statement_data['attention_mask'],\n",
        "        'input_ids_metadata': val_encoded_metadata['input_ids'],\n",
        "        'attention_mask_metadata': val_encoded_metadata['attention_mask']\n",
        "\n",
        "    },\n",
        "    val['label_encoded'] ))  # using one-hot encoded labels when CategoricalCrossEntropy used,\n",
        "                            # and when using SparseCrossEntropy use train['label_encoded'] which is int rep for labels : 0, 1, 2 ..5"
      ],
      "id": "3141466a"
    },
    {
      "cell_type": "code",
      "execution_count": null,
      "metadata": {
        "colab": {
          "background_save": true
        },
        "id": "e9bdd426"
      },
      "outputs": [],
      "source": [
        "# Creating model with BERT\n",
        "max_length = 128\n",
        "def create_bert_model():\n",
        "    model_name = 'distilbert-base-uncased'\n",
        "    model = TFDistilBertForSequenceClassification.from_pretrained(model_name)\n",
        "\n",
        "    # Define input layers\n",
        "    input_ids_statement = Input(shape=(max_length,), dtype=tf.int32, name='input_ids')\n",
        "    attention_mask_statement = Input(shape=(max_length,), dtype=tf.int32, name='attention_mask')\n",
        "    input_ids_metadata = Input(shape=(max_length,), dtype=tf.int32, name='input_ids_metadata')\n",
        "    attention_mask_metadata = Input(shape=(max_length,), dtype=tf.int32, name='attention_mask_metadata')\n",
        "\n",
        "    bert_output_statement = model([input_ids_statement, attention_mask_statement])\n",
        "    bert_output_metadata = model([input_ids_metadata, attention_mask_metadata])\n",
        "\n",
        "    # Add dense layers for classification on each branch\n",
        "    dense_layer_statement = tf.keras.layers.Dense(256, activation='relu')(bert_output_statement.logits)\n",
        "    dense_layer_metadata = tf.keras.layers.Dense(256, activation='relu')(bert_output_metadata.logits)\n",
        "\n",
        "    # Merge the outputs using Concatenate or other merging strategies\n",
        "    merged_output = tf.keras.layers.Concatenate(axis=-1)([dense_layer_statement, dense_layer_metadata])\n",
        "\n",
        "    # Add additional dense layers for classification\n",
        "    final_dense_layer = tf.keras.layers.Dense(128, activation='relu')(merged_output)\n",
        "    output = tf.keras.layers.Dense(num_of_classes, activation='softmax')(final_dense_layer)\n",
        "\n",
        "    custom_model = tf.keras.Model(inputs=[input_ids_statement, attention_mask_statement, input_ids_metadata, attention_mask_metadata], outputs=output)\n",
        "    custom_model.compile(optimizer=tf.keras.optimizers.Adam(learning_rate=1e-3),\n",
        "            loss=tf.keras.losses.SparseCategoricalCrossentropy(),\n",
        "            metrics=tf.keras.metrics.SparseCategoricalAccuracy())  # or use ['accuracy']\n",
        "\n",
        "    return custom_model\n"
      ],
      "id": "e9bdd426"
    },
    {
      "cell_type": "code",
      "execution_count": null,
      "metadata": {
        "colab": {
          "background_save": true
        },
        "id": "n2Y0cBwDtxE6"
      },
      "outputs": [],
      "source": [
        "def create_model():\n",
        "  model_name = 'distilbert-base-uncased'\n",
        "  model = TFDistilBertForSequenceClassification.from_pretrained(model_name)\n",
        "  input_ids = tf.keras.layers.Input(shape=(None,), dtype=tf.int32, name='input_ids')\n",
        "  attention_mask = tf.keras.layers.Input(shape=(None,), dtype=tf.int32, name='attention_mask')\n",
        "\n",
        "  bert_output = model([input_ids, attention_mask])\n",
        "  cls_token = bert_output.logits\n",
        "\n",
        "  # Adding a dropout layer\n",
        "  dropout_rate = 0.5  # Adjust the dropout rate as needed\n",
        "  dropout_layer = tf.keras.layers.Dropout(rate=dropout_rate, name='dropout')(cls_token)\n",
        "\n",
        "  # Adding a dense layer for the output\n",
        "  dense_layer = tf.keras.layers.Dense(num_of_classes, activation='softmax', name='dense_output')\n",
        "  dense_output = dense_layer(dropout_layer)\n",
        "  # dense_output_expanded = tf.keras.layers.Reshape((1, 6))(dense_output)\n",
        "\n",
        "  output = tf.keras.layers.Dense(num_of_classes, activation='softmax')(dense_output)\n",
        "\n",
        "  custom_model = tf.keras.Model(inputs=model.input, outputs=output)\n",
        "  custom_model.compile(optimizer=tf.keras.optimizers.Adam(learning_rate=1e-3),\n",
        "            loss=tf.keras.losses.SparseCategoricalCrossentropy(),        #Use of SparseCategoricalCrossEntropy for multiple classes\n",
        "            metrics=tf.keras.metrics.SparseCategoricalAccuracy())  # or use ['accuracy']\n",
        "\n",
        "  return custom_model"
      ],
      "id": "n2Y0cBwDtxE6"
    },
    {
      "cell_type": "code",
      "execution_count": null,
      "metadata": {
        "colab": {
          "background_save": true
        },
        "id": "b518ae07"
      },
      "outputs": [],
      "source": [
        "num_epochs = 10\n",
        "batch_size = 32"
      ],
      "id": "b518ae07"
    },
    {
      "cell_type": "code",
      "execution_count": null,
      "metadata": {
        "colab": {
          "background_save": true,
          "base_uri": "https://localhost:8080/",
          "referenced_widgets": [
            "cce705c4c1424769909d1cfde79dd525"
          ]
        },
        "id": "6f807bea",
        "outputId": "bc520130-5349-4f22-f173-a9eee57e2582"
      },
      "outputs": [
        {
          "data": {
            "application/vnd.jupyter.widget-view+json": {
              "model_id": "cce705c4c1424769909d1cfde79dd525",
              "version_major": 2,
              "version_minor": 0
            },
            "text/plain": [
              "model.safetensors:   0%|          | 0.00/268M [00:00<?, ?B/s]"
            ]
          },
          "metadata": {},
          "output_type": "display_data"
        },
        {
          "name": "stderr",
          "output_type": "stream",
          "text": [
            "Some weights of the PyTorch model were not used when initializing the TF 2.0 model TFDistilBertForSequenceClassification: ['vocab_projector.bias', 'vocab_layer_norm.bias', 'vocab_layer_norm.weight', 'vocab_transform.bias', 'vocab_transform.weight']\n",
            "- This IS expected if you are initializing TFDistilBertForSequenceClassification from a PyTorch model trained on another task or with another architecture (e.g. initializing a TFBertForSequenceClassification model from a BertForPreTraining model).\n",
            "- This IS NOT expected if you are initializing TFDistilBertForSequenceClassification from a PyTorch model that you expect to be exactly identical (e.g. initializing a TFBertForSequenceClassification model from a BertForSequenceClassification model).\n",
            "Some weights or buffers of the TF 2.0 model TFDistilBertForSequenceClassification were not initialized from the PyTorch model and are newly initialized: ['pre_classifier.weight', 'pre_classifier.bias', 'classifier.weight', 'classifier.bias']\n",
            "You should probably TRAIN this model on a down-stream task to be able to use it for predictions and inference.\n"
          ]
        },
        {
          "name": "stdout",
          "output_type": "stream",
          "text": [
            "Model: \"model\"\n",
            "__________________________________________________________________________________________________\n",
            " Layer (type)                Output Shape                 Param #   Connected to                  \n",
            "==================================================================================================\n",
            " input_ids (InputLayer)      [(None, 128)]                0         []                            \n",
            "                                                                                                  \n",
            " attention_mask (InputLayer  [(None, 128)]                0         []                            \n",
            " )                                                                                                \n",
            "                                                                                                  \n",
            " input_ids_metadata (InputL  [(None, 128)]                0         []                            \n",
            " ayer)                                                                                            \n",
            "                                                                                                  \n",
            " attention_mask_metadata (I  [(None, 128)]                0         []                            \n",
            " nputLayer)                                                                                       \n",
            "                                                                                                  \n",
            " tf_distil_bert_for_sequenc  TFSequenceClassifierOutput   6695501   ['input_ids[0][0]',           \n",
            " e_classification (TFDistil  (loss=None, logits=(None,    0          'attention_mask[0][0]',      \n",
            " BertForSequenceClassificat  2),                                     'input_ids_metadata[0][0]',  \n",
            " ion)                         hidden_states=None, atten              'attention_mask_metadata[0][0\n",
            "                             tions=None)                            ]']                           \n",
            "                                                                                                  \n",
            " dense (Dense)               (None, 256)                  768       ['tf_distil_bert_for_sequence_\n",
            "                                                                    classification[0][0]']        \n",
            "                                                                                                  \n",
            " dense_1 (Dense)             (None, 256)                  768       ['tf_distil_bert_for_sequence_\n",
            "                                                                    classification[1][0]']        \n",
            "                                                                                                  \n",
            " concatenate (Concatenate)   (None, 512)                  0         ['dense[0][0]',               \n",
            "                                                                     'dense_1[0][0]']             \n",
            "                                                                                                  \n",
            " dense_2 (Dense)             (None, 128)                  65664     ['concatenate[0][0]']         \n",
            "                                                                                                  \n",
            " dense_3 (Dense)             (None, 6)                    774       ['dense_2[0][0]']             \n",
            "                                                                                                  \n",
            "==================================================================================================\n",
            "Total params: 67022984 (255.67 MB)\n",
            "Trainable params: 67022984 (255.67 MB)\n",
            "Non-trainable params: 0 (0.00 Byte)\n",
            "__________________________________________________________________________________________________\n"
          ]
        }
      ],
      "source": [
        "\n",
        "strategy = tf.distribute.MirroredStrategy()\n",
        "with strategy.scope():\n",
        "    custom_model = create_bert_model()\n",
        "# with tpu_strategy.scope(): # creating the model in the TPUStrategy scope means we will train the model on the TPU\n",
        "#   custom_model = create_model()\n",
        "\n",
        "custom_model.summary()\n",
        "# for layer in custom_model.layers:\n",
        "#     print(layer.name, layer.input_shape, layer.output_shape)\n",
        "# print(custom_model.input)\n"
      ],
      "id": "6f807bea"
    },
    {
      "cell_type": "code",
      "execution_count": null,
      "metadata": {
        "colab": {
          "background_save": true,
          "base_uri": "https://localhost:8080/",
          "height": 263
        },
        "id": "JuMCN6HQacza",
        "outputId": "04125ea5-1f91-4175-e389-47e75dd67194"
      },
      "outputs": [
        {
          "data": {
            "image/png": "[encoded data removed]",
            "text/plain": [
              "<IPython.core.display.Image object>"
            ]
          },
          "execution_count": 36,
          "metadata": {},
          "output_type": "execute_result"
        }
      ],
      "source": [
        "from tensorflow.keras.utils import plot_model\n",
        "plot_model(custom_model, to_file='custom_model.png', show_shapes=True, show_layer_names=True)\n",
        "\n",
        "# If you want to save separate images for train, validation, and test datasets\n",
        "plot_model(custom_model, to_file='train_model.png', show_shapes=True, show_layer_names=True, rankdir='LR')\n",
        "plot_model(custom_model, to_file='validation_model.png', show_shapes=True, show_layer_names=True, rankdir='LR')\n",
        "plot_model(custom_model, to_file='test_model.png', show_shapes=True, show_layer_names=True, rankdir='LR')"
      ],
      "id": "JuMCN6HQacza"
    },
    {
      "cell_type": "code",
      "execution_count": null,
      "metadata": {
        "colab": {
          "background_save": true
        },
        "id": "12c663b6"
      },
      "outputs": [],
      "source": [
        "checkpoint_callback = tf.keras.callbacks.ModelCheckpoint(\n",
        "    filepath=os.path.join(BASE_DIR, 'model_checkpoint'),  # Specify the path to save the checkpoint\n",
        "    save_best_only=True,  # Save only the best model based on the validation loss\n",
        "    monitor='val_loss',  # Monitor the validation loss\n",
        "    mode='min',  # Mode can be 'min' or 'max' depending on the monitored metric\n",
        "    verbose=1  # Show progress while saving\n",
        ")"
      ],
      "id": "12c663b6"
    },
    {
      "cell_type": "code",
      "execution_count": null,
      "metadata": {
        "colab": {
          "background_save": true
        },
        "id": "G_Yzo60DERzH"
      },
      "outputs": [],
      "source": [
        "from tqdm import tqdm\n",
        "from tensorflow.keras.callbacks import Callback\n",
        "\n",
        "train_steps_per_epoch = len(train_dataset)\n",
        "tqdm_callback = tf.keras.callbacks.LambdaCallback(\n",
        "    on_epoch_begin=lambda epoch, logs: tqdm(total=train_steps_per_epoch, position=0, desc=\"Epoch\", unit=\"batch\"),\n",
        "    on_epoch_end=lambda epoch, logs: tqdm.write(f'Epoch {epoch + 1}/{num_epochs}, Loss: {logs[\"loss\"]}, Accuracy: {logs[\"sparse_categorical_accuracy\"]}, Val Loss: {logs[\"val_loss\"]}, Val Accuracy: {logs[\"val_sparse_categorical_accuracy\"]}'),\n",
        "    on_batch_end=lambda batch, logs: tqdm.update(1)\n",
        ")\n",
        "\n",
        "class ProgressBarCallback(Callback):\n",
        "    def on_epoch_end(self, epoch, logs=None):\n",
        "        logs = logs or {}\n",
        "        self.epochs += 1\n",
        "        self.pbar.update(1)\n",
        "        self.pbar.set_postfix(logs, refresh=True)\n",
        "\n",
        "    def on_train_begin(self, logs=None):\n",
        "        self.epochs = 0\n",
        "        self.pbar = tqdm(total=self.params['epochs'], unit='epoch', position=0)\n",
        "\n",
        "    def on_train_end(self, logs=None):\n",
        "        self.pbar.close()"
      ],
      "id": "G_Yzo60DERzH"
    },
    {
      "cell_type": "code",
      "execution_count": null,
      "metadata": {
        "colab": {
          "background_save": true,
          "base_uri": "https://localhost:8080/"
        },
        "id": "ab08e7ac",
        "outputId": "563f221f-60cb-426a-c374-caffe96edd10"
      },
      "outputs": [
        {
          "name": "stdout",
          "output_type": "stream",
          "text": [
            "Start training\n"
          ]
        },
        {
          "name": "stderr",
          "output_type": "stream",
          "text": [
            "\r  0%|          | 0/10 [00:00<?, ?epoch/s]"
          ]
        },
        {
          "name": "stdout",
          "output_type": "stream",
          "text": [
            "Epoch 1/10\n",
            "\n",
            "Epoch 1: val_loss improved from inf to 1.76400, saving model to /content/sample_data/model_checkpoint\n"
          ]
        },
        {
          "name": "stderr",
          "output_type": "stream",
          "text": [
            "WARNING:tensorflow:Skipping full serialization of Keras layer <keras.src.layers.regularization.dropout.Dropout object at 0x7c586ff69570>, because it is not built.\n",
            "WARNING:tensorflow:Skipping full serialization of Keras layer <keras.src.layers.regularization.dropout.Dropout object at 0x7c583a341c60>, because it is not built.\n",
            "WARNING:tensorflow:Skipping full serialization of Keras layer <keras.src.layers.regularization.dropout.Dropout object at 0x7c5839de48e0>, because it is not built.\n",
            "WARNING:tensorflow:Skipping full serialization of Keras layer <keras.src.layers.regularization.dropout.Dropout object at 0x7c5839de7520>, because it is not built.\n",
            "WARNING:tensorflow:Skipping full serialization of Keras layer <keras.src.layers.regularization.dropout.Dropout object at 0x7c5839df61a0>, because it is not built.\n",
            "WARNING:tensorflow:Skipping full serialization of Keras layer <keras.src.layers.regularization.dropout.Dropout object at 0x7c583a508e20>, because it is not built.\n",
            " 10%|█         | 1/10 [05:06<46:00, 306.75s/epoch, loss=1.76, sparse_categorical_accuracy=0.197, val_loss=1.76, val_sparse_categorical_accuracy=0.193]"
          ]
        },
        {
          "name": "stdout",
          "output_type": "stream",
          "text": [
            "320/320 - 307s - loss: 1.7633 - sparse_categorical_accuracy: 0.1970 - val_loss: 1.7640 - val_sparse_categorical_accuracy: 0.1931 - 307s/epoch - 958ms/step\n",
            "Epoch 2/10\n",
            "\n",
            "Epoch 2: val_loss improved from 1.76400 to 1.76234, saving model to /content/sample_data/model_checkpoint\n"
          ]
        },
        {
          "name": "stderr",
          "output_type": "stream",
          "text": [
            "WARNING:tensorflow:Skipping full serialization of Keras layer <keras.src.layers.regularization.dropout.Dropout object at 0x7c586ff69570>, because it is not built.\n",
            "WARNING:tensorflow:Skipping full serialization of Keras layer <keras.src.layers.regularization.dropout.Dropout object at 0x7c583a341c60>, because it is not built.\n",
            "WARNING:tensorflow:Skipping full serialization of Keras layer <keras.src.layers.regularization.dropout.Dropout object at 0x7c5839de48e0>, because it is not built.\n",
            "WARNING:tensorflow:Skipping full serialization of Keras layer <keras.src.layers.regularization.dropout.Dropout object at 0x7c5839de7520>, because it is not built.\n",
            "WARNING:tensorflow:Skipping full serialization of Keras layer <keras.src.layers.regularization.dropout.Dropout object at 0x7c5839df61a0>, because it is not built.\n",
            "WARNING:tensorflow:Skipping full serialization of Keras layer <keras.src.layers.regularization.dropout.Dropout object at 0x7c583a508e20>, because it is not built.\n",
            " 20%|██        | 2/10 [09:45<38:39, 289.99s/epoch, loss=1.76, sparse_categorical_accuracy=0.2, val_loss=1.76, val_sparse_categorical_accuracy=0.193]  "
          ]
        },
        {
          "name": "stdout",
          "output_type": "stream",
          "text": [
            "320/320 - 278s - loss: 1.7589 - sparse_categorical_accuracy: 0.2001 - val_loss: 1.7623 - val_sparse_categorical_accuracy: 0.1931 - 278s/epoch - 869ms/step\n",
            "Epoch 3/10\n",
            "\n",
            "Epoch 3: val_loss did not improve from 1.76234\n"
          ]
        },
        {
          "name": "stderr",
          "output_type": "stream",
          "text": [
            " 30%|███       | 3/10 [13:52<31:32, 270.36s/epoch, loss=1.76, sparse_categorical_accuracy=0.206, val_loss=1.76, val_sparse_categorical_accuracy=0.205]"
          ]
        },
        {
          "name": "stdout",
          "output_type": "stream",
          "text": [
            "320/320 - 247s - loss: 1.7586 - sparse_categorical_accuracy: 0.2062 - val_loss: 1.7646 - val_sparse_categorical_accuracy: 0.2048 - 247s/epoch - 772ms/step\n",
            "Epoch 4/10\n",
            "\n",
            "Epoch 4: val_loss did not improve from 1.76234\n"
          ]
        },
        {
          "name": "stderr",
          "output_type": "stream",
          "text": [
            " 40%|████      | 4/10 [17:58<26:06, 261.12s/epoch, loss=1.76, sparse_categorical_accuracy=0.201, val_loss=1.76, val_sparse_categorical_accuracy=0.193]"
          ]
        },
        {
          "name": "stdout",
          "output_type": "stream",
          "text": [
            "320/320 - 247s - loss: 1.7584 - sparse_categorical_accuracy: 0.2012 - val_loss: 1.7637 - val_sparse_categorical_accuracy: 0.1931 - 247s/epoch - 771ms/step\n",
            "Epoch 5/10\n",
            "\n",
            "Epoch 5: val_loss improved from 1.76234 to 1.76184, saving model to /content/sample_data/model_checkpoint\n"
          ]
        },
        {
          "name": "stderr",
          "output_type": "stream",
          "text": [
            "WARNING:tensorflow:Skipping full serialization of Keras layer <keras.src.layers.regularization.dropout.Dropout object at 0x7c586ff69570>, because it is not built.\n",
            "WARNING:tensorflow:Skipping full serialization of Keras layer <keras.src.layers.regularization.dropout.Dropout object at 0x7c583a341c60>, because it is not built.\n",
            "WARNING:tensorflow:Skipping full serialization of Keras layer <keras.src.layers.regularization.dropout.Dropout object at 0x7c5839de48e0>, because it is not built.\n",
            "WARNING:tensorflow:Skipping full serialization of Keras layer <keras.src.layers.regularization.dropout.Dropout object at 0x7c5839de7520>, because it is not built.\n",
            "WARNING:tensorflow:Skipping full serialization of Keras layer <keras.src.layers.regularization.dropout.Dropout object at 0x7c5839df61a0>, because it is not built.\n",
            "WARNING:tensorflow:Skipping full serialization of Keras layer <keras.src.layers.regularization.dropout.Dropout object at 0x7c583a508e20>, because it is not built.\n",
            " 50%|█████     | 5/10 [22:36<22:15, 267.20s/epoch, loss=1.76, sparse_categorical_accuracy=0.205, val_loss=1.76, val_sparse_categorical_accuracy=0.193]"
          ]
        },
        {
          "name": "stdout",
          "output_type": "stream",
          "text": [
            "320/320 - 278s - loss: 1.7577 - sparse_categorical_accuracy: 0.2046 - val_loss: 1.7618 - val_sparse_categorical_accuracy: 0.1931 - 278s/epoch - 868ms/step\n",
            "Epoch 6/10\n",
            "\n",
            "Epoch 6: val_loss did not improve from 1.76184\n"
          ]
        },
        {
          "name": "stderr",
          "output_type": "stream",
          "text": [
            " 60%|██████    | 6/10 [27:27<18:20, 275.16s/epoch, loss=1.76, sparse_categorical_accuracy=0.206, val_loss=1.77, val_sparse_categorical_accuracy=0.193]"
          ]
        },
        {
          "name": "stdout",
          "output_type": "stream",
          "text": [
            "320/320 - 247s - loss: 1.7576 - sparse_categorical_accuracy: 0.2064 - val_loss: 1.7656 - val_sparse_categorical_accuracy: 0.1931 - 247s/epoch - 771ms/step\n",
            "Epoch 7/10\n",
            "\n",
            "Epoch 7: val_loss did not improve from 1.76184\n"
          ]
        },
        {
          "name": "stderr",
          "output_type": "stream",
          "text": [
            " 70%|███████   | 7/10 [31:49<13:32, 270.93s/epoch, loss=1.76, sparse_categorical_accuracy=0.205, val_loss=1.77, val_sparse_categorical_accuracy=0.193]"
          ]
        },
        {
          "name": "stdout",
          "output_type": "stream",
          "text": [
            "320/320 - 247s - loss: 1.7579 - sparse_categorical_accuracy: 0.2052 - val_loss: 1.7655 - val_sparse_categorical_accuracy: 0.1931 - 247s/epoch - 771ms/step\n",
            "Epoch 8/10\n",
            "\n",
            "Epoch 8: val_loss did not improve from 1.76184\n"
          ]
        },
        {
          "name": "stderr",
          "output_type": "stream",
          "text": [
            " 80%|████████  | 8/10 [35:56<08:46, 263.22s/epoch, loss=1.76, sparse_categorical_accuracy=0.204, val_loss=1.76, val_sparse_categorical_accuracy=0.193]"
          ]
        },
        {
          "name": "stdout",
          "output_type": "stream",
          "text": [
            "320/320 - 247s - loss: 1.7579 - sparse_categorical_accuracy: 0.2043 - val_loss: 1.7640 - val_sparse_categorical_accuracy: 0.1931 - 247s/epoch - 771ms/step\n",
            "Epoch 9/10\n",
            "\n",
            "Epoch 9: val_loss did not improve from 1.76184\n"
          ]
        },
        {
          "name": "stderr",
          "output_type": "stream",
          "text": [
            " 90%|█████████ | 9/10 [40:03<04:18, 258.11s/epoch, loss=1.76, sparse_categorical_accuracy=0.206, val_loss=1.76, val_sparse_categorical_accuracy=0.205]"
          ]
        },
        {
          "name": "stdout",
          "output_type": "stream",
          "text": [
            "320/320 - 247s - loss: 1.7576 - sparse_categorical_accuracy: 0.2061 - val_loss: 1.7625 - val_sparse_categorical_accuracy: 0.2048 - 247s/epoch - 771ms/step\n",
            "Epoch 10/10\n",
            "\n",
            "Epoch 10: val_loss did not improve from 1.76184\n"
          ]
        },
        {
          "name": "stderr",
          "output_type": "stream",
          "text": [
            "100%|██████████| 10/10 [44:09<00:00, 254.55s/epoch, loss=1.76, sparse_categorical_accuracy=0.205, val_loss=1.76, val_sparse_categorical_accuracy=0.193]"
          ]
        },
        {
          "name": "stdout",
          "output_type": "stream",
          "text": [
            "320/320 - 246s - loss: 1.7576 - sparse_categorical_accuracy: 0.2051 - val_loss: 1.7649 - val_sparse_categorical_accuracy: 0.1931 - 246s/epoch - 770ms/step\n"
          ]
        },
        {
          "name": "stderr",
          "output_type": "stream",
          "text": [
            "\r100%|██████████| 10/10 [44:09<00:00, 264.99s/epoch, loss=1.76, sparse_categorical_accuracy=0.205, val_loss=1.76, val_sparse_categorical_accuracy=0.193]\n"
          ]
        }
      ],
      "source": [
        "print('Start training')\n",
        "progress_bar_callback = ProgressBarCallback()\n",
        "history = custom_model.fit(\n",
        "    train_dataset.shuffle(10000).batch(batch_size).prefetch(tf.data.AUTOTUNE),\n",
        "    epochs=num_epochs,\n",
        "    validation_data=val_dataset.batch(batch_size).prefetch(tf.data.AUTOTUNE),\n",
        "    verbose=2,\n",
        "    callbacks=[checkpoint_callback, progress_bar_callback]\n",
        ")"
      ],
      "id": "ab08e7ac"
    },
    {
      "cell_type": "code",
      "execution_count": null,
      "metadata": {
        "colab": {
          "background_save": true,
          "base_uri": "https://localhost:8080/"
        },
        "id": "27d5ed1c",
        "outputId": "3ed54abd-c991-44e8-966a-00c539e61762"
      },
      "outputs": [
        {
          "name": "stderr",
          "output_type": "stream",
          "text": [
            "WARNING:tensorflow:Skipping full serialization of Keras layer <keras.src.layers.regularization.dropout.Dropout object at 0x7c586ff69570>, because it is not built.\n",
            "WARNING:tensorflow:Skipping full serialization of Keras layer <keras.src.layers.regularization.dropout.Dropout object at 0x7c583a341c60>, because it is not built.\n",
            "WARNING:tensorflow:Skipping full serialization of Keras layer <keras.src.layers.regularization.dropout.Dropout object at 0x7c5839de48e0>, because it is not built.\n",
            "WARNING:tensorflow:Skipping full serialization of Keras layer <keras.src.layers.regularization.dropout.Dropout object at 0x7c5839de7520>, because it is not built.\n",
            "WARNING:tensorflow:Skipping full serialization of Keras layer <keras.src.layers.regularization.dropout.Dropout object at 0x7c5839df61a0>, because it is not built.\n",
            "WARNING:tensorflow:Skipping full serialization of Keras layer <keras.src.layers.regularization.dropout.Dropout object at 0x7c583a508e20>, because it is not built.\n"
          ]
        }
      ],
      "source": [
        "# Save the trained model if needed\n",
        "custom_model.save(os.path.join(BASE_DIR, 'trained_model'))"
      ],
      "id": "27d5ed1c"
    },
    {
      "cell_type": "code",
      "execution_count": null,
      "metadata": {
        "colab": {
          "base_uri": "https://localhost:8080/"
        },
        "id": "aliO9ePe7IqA",
        "outputId": "bb45a803-6bbe-407f-c497-ce5d31207620"
      },
      "outputs": [
        {
          "name": "stdout",
          "output_type": "stream",
          "text": [
            "40/40 [==============================] - 21s 422ms/step - loss: 1.7506 - sparse_categorical_accuracy: 0.2082\n",
            "loss: 1.750599980354309\n",
            "   1/1268 [..............................] - ETA: 7:15:01sparse_categorical_accuracy: 0.20820190012454987\n",
            "Test Loss: 1.750599980354309\n",
            "Test Accuracy: 0.20820190012454987\n"
          ]
        }
      ],
      "source": [
        "from keras.utils import Progbar\n",
        "\n",
        "# Tokenize and preprocess the test data\n",
        "test_encoded_statement_data = tokenizer(\n",
        "    test['statement'].tolist(),\n",
        "    padding=True,\n",
        "    truncation=True,\n",
        "    return_tensors='tf'\n",
        ")\n",
        "test['label_encoded'] = test['label'].map(label_mapping)\n",
        "test['metadata'] = test['subject'].astype(str) + ' ' + test['speaker'].astype(str) + ' ' + test['job_title'].astype(str) + ' ' + test['state'].astype(str) + ' ' + test['affiliation'].astype(str) + ' ' + test['context'].astype(str)\n",
        "\n",
        "test_encoded_metadata = tokenizer(\n",
        "    test['metadata'].to_list(),\n",
        "    padding=True,\n",
        "    truncation=True,\n",
        "    max_length=128,\n",
        "    return_tensors='tf'\n",
        ")\n",
        "\n",
        "# Create TensorFlow dataset for testing\n",
        "test_dataset = tf.data.Dataset.from_tensor_slices((\n",
        "    {\n",
        "        'input_ids': test_encoded_statement_data['input_ids'],\n",
        "        'attention_mask': test_encoded_statement_data['attention_mask'],\n",
        "        'input_ids_metadata': test_encoded_metadata['input_ids'],\n",
        "        'attention_mask_metadata': test_encoded_metadata['attention_mask']\n",
        "    },\n",
        "    test['label_encoded']\n",
        "))\n",
        "# limited_test_dataset = test_dataset.take(limit)\n",
        "test_steps = len(test_dataset)\n",
        "progbar = Progbar(test_steps)\n",
        "\n",
        "# Evaluate the model on the test dataset\n",
        "with strategy.scope():\n",
        "  results = custom_model.evaluate(test_dataset.batch(batch_size).prefetch(tf.data.AUTOTUNE))\n",
        "\n",
        "# Display the results and update the progress bar\n",
        "for metric_name, result in zip(custom_model.metrics_names, results):\n",
        "    print(f'{metric_name}: {result}')\n",
        "\n",
        "    # Update progress bar\n",
        "    progbar.update(1)\n",
        "# Print the evaluation results (including accuracy)\n",
        "print(\"Test Loss:\", results[0])\n",
        "print(\"Test Accuracy:\", results[1])\n",
        "\n"
      ],
      "id": "aliO9ePe7IqA"
    },
    {
      "cell_type": "code",
      "execution_count": null,
      "metadata": {
        "id": "7Qv8rC4aVOFB"
      },
      "outputs": [],
      "source": [
        "import matplotlib.pyplot as plt\n",
        "\n",
        "# Plot training & validation accuracy values\n",
        "plt.plot(history.history['sparse_categorical_accuracy'])\n",
        "plt.plot(history.history['val_sparse_categorical_accuracy'])\n",
        "plt.plot(epochs, results[1])\n",
        "plt.title('Model accuracy')\n",
        "plt.xlabel('Epoch')\n",
        "plt.ylabel('Loss/Accuracy')\n",
        "plt.legend(['Train', 'Validation'], loc='upper left')\n",
        "plt.show()"
      ],
      "id": "7Qv8rC4aVOFB"
    }
  ],
  "metadata": {
    "accelerator": "GPU",
    "colab": {
      "provenance": [],
      "gpuType": "T4"
    },
    "jupytext": {
      "cell_metadata_filter": "-all",
      "main_language": "python",
      "notebook_metadata_filter": "-all"
    },
    "kernelspec": {
      "display_name": "Python 3",
      "name": "python3"
    },
    "language_info": {
      "name": "python"
    }
  },
  "nbformat": 4,
  "nbformat_minor": 5
}