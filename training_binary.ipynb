{
  "cells": [
    {
      "cell_type": "markdown",
      "source": [
        "requirements.txt\n",
        "\n",
        "```\n",
        "numpy\n",
        "tensorflow_hub\n",
        "tensorflow\n",
        "pandas\n",
        "tensorflow-text\n",
        "transformers\n",
        "matplotlib\n",
        "```\n",
        "\n"
      ],
      "metadata": {
        "id": "nChNH7hmukfS"
      },
      "id": "nChNH7hmukfS"
    },
    {
      "cell_type": "code",
      "execution_count": null,
      "metadata": {
        "id": "BFFBh28xlJOA"
      },
      "outputs": [],
      "source": [
        "!pip install -r https://raw.githubusercontent.com/LizaAmatya/FakeNewsDetection/main/requirements.txt"
      ],
      "id": "BFFBh28xlJOA"
    },
    {
      "cell_type": "code",
      "execution_count": 2,
      "metadata": {
        "id": "8ea082eb"
      },
      "outputs": [],
      "source": [
        "import os\n",
        "import pandas as pd\n",
        "import tensorflow as tf\n",
        "from transformers import BertTokenizer, TFBertForSequenceClassification, DistilBertTokenizer, TFDistilBertForSequenceClassification\n",
        "import numpy as np"
      ],
      "id": "8ea082eb"
    },
    {
      "cell_type": "code",
      "execution_count": 3,
      "metadata": {
        "id": "NVXZhU2-p-1Z",
        "colab": {
          "base_uri": "https://localhost:8080/"
        },
        "outputId": "2d16c7c8-e907-4387-c067-d477ff32d497"
      },
      "outputs": [
        {
          "output_type": "stream",
          "name": "stdout",
          "text": [
            "Running on TPU  ['10.117.180.154:8470']\n"
          ]
        }
      ],
      "source": [
        "try:\n",
        "  tpu = tf.distribute.cluster_resolver.TPUClusterResolver()  # TPU detection\n",
        "  print('Running on TPU ', tpu.cluster_spec().as_dict()['worker'])\n",
        "except ValueError:\n",
        "  raise BaseException('ERROR: Not connected to a TPU runtime; please see the previous cell in this notebook for instructions!')\n",
        "\n",
        "tf.config.run_functions_eagerly(False)\n",
        "tf.config.experimental_connect_to_cluster(tpu)\n",
        "tf.tpu.experimental.initialize_tpu_system(tpu)\n",
        "tpu_strategy = tf.distribute.TPUStrategy(tpu)\n",
        "# mirrored_strategy = tf.distribute.MirroredStrategy(devices=[\"/gpu:0\", \"/gpu:1\",\"/gpu:2\", \"/gpu:3\"])"
      ],
      "id": "NVXZhU2-p-1Z"
    },
    {
      "cell_type": "code",
      "execution_count": 4,
      "metadata": {
        "id": "33b66a03"
      },
      "outputs": [],
      "source": [
        "# BASE_DIR = os.path.dirname(os.path.abspath(__file__))\n",
        "BASE_DIR = \"/content/sample_data\""
      ],
      "id": "33b66a03"
    },
    {
      "cell_type": "code",
      "execution_count": 5,
      "metadata": {
        "id": "7a2a53ae"
      },
      "outputs": [],
      "source": [
        "# Enable autotuning\n",
        "# tf.config.threading.set_intra_op_parallelism_threads(1)\n",
        "# tf.config.threading.set_inter_op_parallelism_threads(1)\n",
        "# tf.config.threading.set_intra_op_parallelism_threads(1)\n",
        "# tf.config.threading.set_inter_op_parallelism_threads(1)"
      ],
      "id": "7a2a53ae"
    },
    {
      "cell_type": "code",
      "execution_count": 6,
      "metadata": {
        "id": "7a3f59c0"
      },
      "outputs": [],
      "source": [
        "train_path = os.path.join(BASE_DIR, 'dataset/train.tsv')\n",
        "test_path = os.path.join(BASE_DIR, 'dataset/test.tsv')\n",
        "validation_path = os.path.join(BASE_DIR, 'dataset/validation.tsv')"
      ],
      "id": "7a3f59c0"
    },
    {
      "cell_type": "code",
      "execution_count": 7,
      "metadata": {
        "id": "f59efd84"
      },
      "outputs": [],
      "source": [
        "column_labels = ['row', 'json_ids', 'label', 'statement', 'subject', 'speaker', 'job_title', 'state', 'affiliation', 'barely_true_counts', 'false_counts', 'half_true_counts', 'mostly_true_counts', 'lies_counts', 'context', 'justification']"
      ],
      "id": "f59efd84"
    },
    {
      "cell_type": "code",
      "execution_count": 8,
      "metadata": {
        "id": "c1c87785"
      },
      "outputs": [],
      "source": [
        "# Data Frames\n",
        "train = pd.read_csv(train_path, sep=\"\\t\", header=None, names=column_labels)\n",
        "test = pd.read_csv(test_path, sep=\"\\t\", header=None, names=column_labels)\n",
        "valid = pd.read_csv(validation_path, sep=\"\\t\", header=None, names=column_labels)"
      ],
      "id": "c1c87785"
    },
    {
      "cell_type": "code",
      "execution_count": 9,
      "metadata": {
        "id": "aab57d9f"
      },
      "outputs": [],
      "source": [
        "# Fill nan (empty boxes) with 0\n",
        "train = train.fillna('None')\n",
        "test = test.fillna('None')\n",
        "val = valid.fillna('None')"
      ],
      "id": "aab57d9f"
    },
    {
      "cell_type": "markdown",
      "metadata": {
        "id": "94efce03"
      },
      "source": [
        "Mapping to binary classes"
      ],
      "id": "94efce03"
    },
    {
      "cell_type": "code",
      "execution_count": 10,
      "metadata": {
        "id": "85661522",
        "colab": {
          "base_uri": "https://localhost:8080/"
        },
        "outputId": "d4bdaa54-b243-4521-e559-d53bbe0b0c80"
      },
      "outputs": [
        {
          "output_type": "stream",
          "name": "stdout",
          "text": [
            "label mapping {'false': 0, 'half-true': 1, 'mostly-true': 2, 'true': 3, 'barely-true': 4, 'pants-fire': 5}\n"
          ]
        }
      ],
      "source": [
        "labels = train['label']\n",
        "label_mapping = {label: idx for idx, label in enumerate(labels.unique())}\n",
        "print('label mapping', label_mapping)"
      ],
      "id": "85661522"
    },
    {
      "cell_type": "code",
      "execution_count": 11,
      "metadata": {
        "id": "ac771165"
      },
      "outputs": [],
      "source": [
        "# Converting into 2 labels\n",
        "train['label_encoded'] = np.where(np.isin(labels, ['mostly-true', 'true']), 1, 0)   # Mapping True as 1 and lies as 0\n",
        "val['label_encoded'] = np.where(np.isin(val['label'], ['mostly-true', 'true']), 1, 0)"
      ],
      "id": "ac771165"
    },
    {
      "cell_type": "code",
      "execution_count": 12,
      "metadata": {
        "id": "35c3a7fb"
      },
      "outputs": [],
      "source": [
        "num_of_classes=2"
      ],
      "id": "35c3a7fb"
    },
    {
      "cell_type": "code",
      "execution_count": 13,
      "metadata": {
        "id": "b232da14"
      },
      "outputs": [],
      "source": [
        "# model_name = 'experts_wiki_books'\n",
        "model_name = 'bert-base-uncased'\n",
        "tokenizer = BertTokenizer.from_pretrained(model_name)"
      ],
      "id": "b232da14"
    },
    {
      "cell_type": "code",
      "execution_count": 14,
      "metadata": {
        "id": "737402ea"
      },
      "outputs": [],
      "source": [
        "# Tokenize the statement and metadata\n",
        "train_encoded_statement_data = tokenizer(\n",
        "    train['statement'].to_list(),\n",
        "    padding='max_length',\n",
        "    truncation=True,\n",
        "    max_length=128,\n",
        "    return_tensors='tf'\n",
        ")\n",
        "train['metadata'] = train['subject'].astype(str) + ' ' + train['speaker'].astype(str) + ' ' + train['job_title'].astype(str) + ' ' + train['state'].astype(str) + ' ' + train['affiliation'].astype(str) + ' ' + train['context'].astype(str)\n",
        "\n",
        "train_encoded_metadata = tokenizer(\n",
        "    train['metadata'].to_list(),\n",
        "    padding='max_length',\n",
        "    truncation=True,\n",
        "    max_length=128,\n",
        "    return_tensors='tf'\n",
        ")"
      ],
      "id": "737402ea"
    },
    {
      "cell_type": "code",
      "execution_count": 15,
      "metadata": {
        "id": "ec6dca67"
      },
      "outputs": [],
      "source": [
        "val_encoded_statement_data = tokenizer(\n",
        "    val['statement'].tolist(),\n",
        "    padding='max_length',\n",
        "    truncation=True,\n",
        "    max_length=128,\n",
        "    return_tensors='tf'\n",
        ")\n",
        "val['metadata'] = val['subject'].astype(str) + ' ' + val['speaker'].astype(str) + ' ' + val['job_title'].astype(str) + ' ' + val['state'].astype(str) + ' ' + val['affiliation'].astype(str) + ' ' + val['context'].astype(str)\n",
        "\n",
        "val_encoded_metadata = tokenizer(\n",
        "    val['metadata'].to_list(),\n",
        "    padding='max_length',\n",
        "    truncation=True,\n",
        "    max_length=128,\n",
        "    return_tensors='tf'\n",
        ")"
      ],
      "id": "ec6dca67"
    },
    {
      "cell_type": "code",
      "execution_count": 16,
      "metadata": {
        "id": "d5347cba"
      },
      "outputs": [],
      "source": [
        "# Create TensorFlow dataset for training\n",
        "train_dataset = tf.data.Dataset.from_tensor_slices((\n",
        "    {\n",
        "        'input_ids': train_encoded_statement_data['input_ids'],\n",
        "        'attention_mask': train_encoded_statement_data['attention_mask'],\n",
        "        'input_ids_metadata': train_encoded_metadata['input_ids'],\n",
        "        'attention_mask_metadata': train_encoded_metadata['attention_mask']\n",
        "    },\n",
        "    train['label_encoded'] ))"
      ],
      "id": "d5347cba"
    },
    {
      "cell_type": "code",
      "execution_count": 17,
      "metadata": {
        "id": "3bb990b1"
      },
      "outputs": [],
      "source": [
        "val_dataset = tf.data.Dataset.from_tensor_slices((\n",
        "    {\n",
        "        'input_ids': val_encoded_statement_data['input_ids'],\n",
        "        'attention_mask': val_encoded_statement_data['attention_mask'],\n",
        "        'input_ids_metadata': val_encoded_metadata['input_ids'],\n",
        "        'attention_mask_metadata': val_encoded_metadata['attention_mask']\n",
        "\n",
        "    },\n",
        "    val['label_encoded'] ))"
      ],
      "id": "3bb990b1"
    },
    {
      "cell_type": "code",
      "execution_count": 18,
      "metadata": {
        "id": "9df7d801"
      },
      "outputs": [],
      "source": [
        "num_epochs = 10\n",
        "batch_size = 32"
      ],
      "id": "9df7d801"
    },
    {
      "cell_type": "code",
      "execution_count": 19,
      "metadata": {
        "id": "ZlfQDU3Jp12_"
      },
      "outputs": [],
      "source": [
        "# Creating model with BERT with 2 layers of input\n",
        "from tensorflow.keras.layers import Input\n",
        "\n",
        "max_length = 128\n",
        "def create_bert_model():\n",
        "    model_name = 'bert-base-uncased'\n",
        "    model = TFBertForSequenceClassification.from_pretrained(model_name)\n",
        "\n",
        "    # Define input layers\n",
        "    input_ids_statement = Input(shape=(max_length,), dtype=tf.int32, name='input_ids')\n",
        "    attention_mask_statement = Input(shape=(max_length,), dtype=tf.int32, name='attention_mask')\n",
        "    input_ids_metadata = Input(shape=(max_length,), dtype=tf.int32, name='input_ids_metadata')\n",
        "    attention_mask_metadata = Input(shape=(max_length,), dtype=tf.int32, name='attention_mask_metadata')\n",
        "\n",
        "    bert_output_statement = model([input_ids_statement, attention_mask_statement])\n",
        "    bert_output_metadata = model([input_ids_metadata, attention_mask_metadata])\n",
        "\n",
        "    # Extract logits for the positive class from each branch\n",
        "    positive_class_statement_logits = bert_output_statement.logits[:, 1]\n",
        "    positive_class_metadata_logits = bert_output_metadata.logits[:, 1]\n",
        "\n",
        "    positive_class_statement_logits = tf.expand_dims(positive_class_statement_logits, axis=-1)\n",
        "    positive_class_metadata_logits = tf.expand_dims(positive_class_metadata_logits, axis=-1)\n",
        "\n",
        "    # Add dense layers for classification on each branch\n",
        "    dense_layer_statement = tf.keras.layers.Dense(256, activation='relu')(positive_class_statement_logits)\n",
        "    dense_layer_metadata = tf.keras.layers.Dense(256, activation='relu')(bert_output_metadata.logits)\n",
        "\n",
        "    # Merge the outputs using Concatenate or other merging strategies\n",
        "    merged_output = tf.keras.layers.Concatenate(axis=-1)([dense_layer_statement, dense_layer_metadata])\n",
        "\n",
        "    # Add additional dense layers for classification\n",
        "    final_dense_layer = tf.keras.layers.Dense(128, activation='relu')(merged_output)\n",
        "    output = tf.keras.layers.Dense(1, activation='sigmoid')(final_dense_layer)\n",
        "\n",
        "    custom_model = tf.keras.Model(inputs=[input_ids_statement, attention_mask_statement, input_ids_metadata, attention_mask_metadata],\n",
        "                                  outputs=output)\n",
        "    custom_model.compile(optimizer=tf.keras.optimizers.Adam(learning_rate=0.0001),\n",
        "            loss=tf.keras.losses.BinaryCrossentropy(),\n",
        "            metrics=['accuracy'])\n",
        "\n",
        "    return custom_model"
      ],
      "id": "ZlfQDU3Jp12_"
    },
    {
      "cell_type": "code",
      "execution_count": 20,
      "metadata": {
        "id": "ed5ec3d8"
      },
      "outputs": [],
      "source": [
        "# Create a new model with the BERT base and the custom output layer having only single layer of input\n",
        "\n",
        "def create_model():\n",
        "  model = TFBertForSequenceClassification.from_pretrained(model_name)\n",
        "  input_ids = tf.keras.layers.Input(shape=(None,), dtype=tf.int32, name='input_ids')\n",
        "  attention_mask = tf.keras.layers.Input(shape=(None,), dtype=tf.int32, name='attention_mask')\n",
        "\n",
        "  # Adding a dense layer for the output\n",
        "  bert_output = model([input_ids, attention_mask])\n",
        "  cls_token = bert_output.logits\n",
        "  positive_class_logits = cls_token[:, 1]  # Extract logits for the positive class\n",
        "  positive_class_logits = tf.expand_dims(positive_class_logits, axis=-1)\n",
        "  dense_layer = tf.keras.layers.Dense(1, activation='sigmoid', name='dense_output')\n",
        "  output = dense_layer(positive_class_logits)\n",
        "\n",
        "  output = tf.keras.layers.Dense(1, activation='sigmoid')(output)\n",
        "  custom_model = tf.keras.Model(inputs=model.input, outputs=output)\n",
        "  custom_model.compile(optimizer=tf.keras.optimizers.Adam(learning_rate=0.0001),\n",
        "            loss=tf.keras.losses.BinaryCrossentropy(),\n",
        "            metrics=['accuracy'])\n",
        "\n",
        "  return custom_model"
      ],
      "id": "ed5ec3d8"
    },
    {
      "cell_type": "code",
      "execution_count": 21,
      "metadata": {
        "id": "18653174",
        "colab": {
          "base_uri": "https://localhost:8080/",
          "height": 955,
          "referenced_widgets": [
            "b73fdc70c2aa4594984294f89d8a0693",
            "68fe285b72ab4655b23c62472add6843",
            "f94b51be66a94f21ba903edeaf94e6b1",
            "00547cf5a25948dbb7c86f3d399ad84e",
            "d74080341bc94f609bf6c51143cb8f75",
            "a3475b2883ea496b9d7237af5bdd1ba0",
            "d2500d569ad64591ac8206035a6f3113",
            "5fb2281a2d7041fd96afa57ec4805b03",
            "57bb43d1672d4d3c8290bc24303178b8",
            "08c1f91804494686b16ad5ad155830dc",
            "ffa79154df8144f4b0ccb77ade112c9d"
          ]
        },
        "outputId": "033b0433-4c9c-4ba7-c82b-04322c84a04a"
      },
      "outputs": [
        {
          "output_type": "display_data",
          "data": {
            "text/plain": [
              "model.safetensors:   0%|          | 0.00/440M [00:00<?, ?B/s]"
            ],
            "application/vnd.jupyter.widget-view+json": {
              "version_major": 2,
              "version_minor": 0,
              "model_id": "b73fdc70c2aa4594984294f89d8a0693"
            }
          },
          "metadata": {}
        },
        {
          "output_type": "stream",
          "name": "stderr",
          "text": [
            "All PyTorch model weights were used when initializing TFBertForSequenceClassification.\n",
            "\n",
            "Some weights or buffers of the TF 2.0 model TFBertForSequenceClassification were not initialized from the PyTorch model and are newly initialized: ['classifier.weight', 'classifier.bias']\n",
            "You should probably TRAIN this model on a down-stream task to be able to use it for predictions and inference.\n"
          ]
        },
        {
          "output_type": "stream",
          "name": "stdout",
          "text": [
            "Model: \"model\"\n",
            "__________________________________________________________________________________________________\n",
            " Layer (type)                Output Shape                 Param #   Connected to                  \n",
            "==================================================================================================\n",
            " input_ids (InputLayer)      [(None, 128)]                0         []                            \n",
            "                                                                                                  \n",
            " attention_mask (InputLayer  [(None, 128)]                0         []                            \n",
            " )                                                                                                \n",
            "                                                                                                  \n",
            " tf_bert_for_sequence_class  TFSequenceClassifierOutput   1094837   ['input_ids[0][0]',           \n",
            " ification (TFBertForSequen  (loss=None, logits=(None,    78         'attention_mask[0][0]',      \n",
            " ceClassification)           2),                                     'input_ids_metadata[0][0]',  \n",
            "                              hidden_states=None, atten              'attention_mask_metadata[0][0\n",
            "                             tions=None)                            ]']                           \n",
            "                                                                                                  \n",
            " tf.__operators__.getitem (  (None,)                      0         ['tf_bert_for_sequence_classif\n",
            " SlicingOpLambda)                                                   ication[0][0]']               \n",
            "                                                                                                  \n",
            " input_ids_metadata (InputL  [(None, 128)]                0         []                            \n",
            " ayer)                                                                                            \n",
            "                                                                                                  \n",
            " attention_mask_metadata (I  [(None, 128)]                0         []                            \n",
            " nputLayer)                                                                                       \n",
            "                                                                                                  \n",
            " tf.expand_dims (TFOpLambda  (None, 1)                    0         ['tf.__operators__.getitem[0][\n",
            " )                                                                  0]']                          \n",
            "                                                                                                  \n",
            " dense (Dense)               (None, 256)                  512       ['tf.expand_dims[0][0]']      \n",
            "                                                                                                  \n",
            " dense_1 (Dense)             (None, 256)                  768       ['tf_bert_for_sequence_classif\n",
            "                                                                    ication[1][0]']               \n",
            "                                                                                                  \n",
            " concatenate (Concatenate)   (None, 512)                  0         ['dense[0][0]',               \n",
            "                                                                     'dense_1[0][0]']             \n",
            "                                                                                                  \n",
            " dense_2 (Dense)             (None, 128)                  65664     ['concatenate[0][0]']         \n",
            "                                                                                                  \n",
            " dense_3 (Dense)             (None, 1)                    129       ['dense_2[0][0]']             \n",
            "                                                                                                  \n",
            "==================================================================================================\n",
            "Total params: 109550851 (417.90 MB)\n",
            "Trainable params: 109550851 (417.90 MB)\n",
            "Non-trainable params: 0 (0.00 Byte)\n",
            "__________________________________________________________________________________________________\n"
          ]
        }
      ],
      "source": [
        "# strategy = tf.distribute.MirroredStrategy()\n",
        "with tpu_strategy.scope():\n",
        "    custom_model = create_bert_model()\n",
        "\n",
        "custom_model.summary()"
      ],
      "id": "18653174"
    },
    {
      "cell_type": "code",
      "execution_count": 22,
      "metadata": {
        "id": "Vhq2LVRQs3xI",
        "colab": {
          "base_uri": "https://localhost:8080/",
          "height": 171
        },
        "outputId": "9338fe86-d557-4b5f-b9dd-4b5374cef021"
      },
      "outputs": [
        {
          "output_type": "execute_result",
          "data": {
            "image/png": "[encoded data removed]",
            "text/plain": [
              "<IPython.core.display.Image object>"
            ]
          },
          "metadata": {},
          "execution_count": 22
        }
      ],
      "source": [
        "from tensorflow.keras.utils import plot_model\n",
        "\n",
        "plot_model(custom_model, to_file='binary_custom_model.png', show_shapes=True, show_layer_names=True)\n",
        "\n",
        "# If you want to save separate images for train, validation, and test datasets\n",
        "plot_model(custom_model, to_file='train_model_binary.png', show_shapes=True, show_layer_names=True, rankdir='LR')\n",
        "# plot_model(custom_model, to_file='validation_model.png', show_shapes=True, show_layer_names=True, rankdir='LR')\n",
        "# plot_model(custom_model, to_file='test_model.png', show_shapes=True, show_layer_names=True, rankdir='LR')"
      ],
      "id": "Vhq2LVRQs3xI"
    },
    {
      "cell_type": "code",
      "execution_count": 23,
      "metadata": {
        "id": "b27642ef"
      },
      "outputs": [],
      "source": [
        "checkpoint_callback = tf.keras.callbacks.ModelCheckpoint(\n",
        "    filepath=os.path.join(BASE_DIR, 'model_checkpoint'),  # Specify the path to save the checkpoint\n",
        "    save_best_only=True,  # Save only the best model based on the validation loss\n",
        "    monitor='val_loss',  # Monitor the validation loss\n",
        "    mode='min',  # Mode can be 'min' or 'max' depending on the monitored metric\n",
        "    verbose=1  # Show progress while saving\n",
        ")"
      ],
      "id": "b27642ef"
    },
    {
      "cell_type": "code",
      "execution_count": 24,
      "metadata": {
        "id": "ZpUOukvfoKvL"
      },
      "outputs": [],
      "source": [
        "from tqdm import tqdm\n",
        "from tensorflow.keras.callbacks import Callback\n",
        "\n",
        "train_steps_per_epoch = len(train_dataset)\n",
        "tqdm_callback = tf.keras.callbacks.LambdaCallback(\n",
        "    on_epoch_begin=lambda epoch, logs: tqdm(total=train_steps_per_epoch, position=0, desc=\"Epoch\", unit=\"batch\"),\n",
        "    on_epoch_end=lambda epoch, logs: tqdm.write(f'Epoch {epoch + 1}/{num_epochs}, Loss: {logs[\"loss\"]}, Accuracy: {logs[\"sparse_categorical_accuracy\"]}, Val Loss: {logs[\"val_loss\"]}, Val Accuracy: {logs[\"val_sparse_categorical_accuracy\"]}'),\n",
        "    on_batch_end=lambda batch, logs: tqdm.update(1)\n",
        ")\n",
        "\n",
        "class ProgressBarCallback(Callback):\n",
        "    def on_epoch_end(self, epoch, logs=None):\n",
        "        logs = logs or {}\n",
        "        self.epochs += 1\n",
        "        self.pbar.update(1)\n",
        "        self.pbar.set_postfix(logs, refresh=True)\n",
        "\n",
        "    def on_train_begin(self, logs=None):\n",
        "        self.epochs = 0\n",
        "        self.pbar = tqdm(total=self.params['epochs'], unit='epoch', position=0)\n",
        "\n",
        "    def on_train_end(self, logs=None):\n",
        "        self.pbar.close()"
      ],
      "id": "ZpUOukvfoKvL"
    },
    {
      "cell_type": "code",
      "execution_count": 25,
      "metadata": {
        "id": "6d10df90",
        "colab": {
          "base_uri": "https://localhost:8080/"
        },
        "outputId": "6c67a4a8-f88a-460d-c1ee-d83f0bc344ad"
      },
      "outputs": [
        {
          "output_type": "stream",
          "name": "stdout",
          "text": [
            "Start training\n"
          ]
        },
        {
          "output_type": "stream",
          "name": "stderr",
          "text": [
            "\r  0%|          | 0/10 [00:00<?, ?epoch/s]"
          ]
        },
        {
          "output_type": "stream",
          "name": "stdout",
          "text": [
            "Epoch 1/10\n",
            "  6/320 [..............................] - ETA: 33s - loss: 0.6834 - accuracy: 0.6354"
          ]
        },
        {
          "output_type": "stream",
          "name": "stderr",
          "text": [
            "WARNING:tensorflow:Callback method `on_train_batch_end` is slow compared to the batch time (batch time: 0.0138s vs `on_train_batch_end` time: 9.9635s). Check your callbacks.\n"
          ]
        },
        {
          "output_type": "stream",
          "name": "stdout",
          "text": [
            "320/320 [==============================] - ETA: 0s - loss: 0.6501 - accuracy: 0.6444"
          ]
        },
        {
          "output_type": "stream",
          "name": "stderr",
          "text": [
            " 10%|█         | 1/10 [03:05<27:48, 185.40s/epoch, loss=0.65, accuracy=0.644, val_loss=0.635, val_accuracy=0.673]"
          ]
        },
        {
          "output_type": "stream",
          "name": "stdout",
          "text": [
            "\b\b\b\b\b\b\b\b\b\b\b\b\b\b\b\b\b\b\b\b\b\b\b\b\b\b\b\b\b\b\b\b\b\b\b\b\b\b\b\b\b\b\b\b\b\b\b\b\b\b\b\b\b\b\b\b\b\b\b\b\b\b\b\b\b\b\b\b\b\b\b\b\b\b\b\b\b\b\b\b\b\b\b\b\r320/320 [==============================] - 183s 186ms/step - loss: 0.6501 - accuracy: 0.6444 - val_loss: 0.6352 - val_accuracy: 0.6729\n",
            "Epoch 2/10\n",
            "320/320 [==============================] - ETA: 0s - loss: 0.6519 - accuracy: 0.6447"
          ]
        },
        {
          "output_type": "stream",
          "name": "stderr",
          "text": [
            " 20%|██        | 2/10 [03:42<13:03, 97.93s/epoch, loss=0.652, accuracy=0.645, val_loss=0.633, val_accuracy=0.673]"
          ]
        },
        {
          "output_type": "stream",
          "name": "stdout",
          "text": [
            "\b\b\b\b\b\b\b\b\b\b\b\b\b\b\b\b\b\b\b\b\b\b\b\b\b\b\b\b\b\b\b\b\b\b\b\b\b\b\b\b\b\b\b\b\b\b\b\b\b\b\b\b\b\b\b\b\b\b\b\b\b\b\b\b\b\b\b\b\b\b\b\b\b\b\b\b\b\b\b\b\b\b\b\b\r320/320 [==============================] - 36s 112ms/step - loss: 0.6519 - accuracy: 0.6447 - val_loss: 0.6329 - val_accuracy: 0.6729\n",
            "Epoch 3/10\n",
            "320/320 [==============================] - ETA: 0s - loss: 0.6519 - accuracy: 0.6447"
          ]
        },
        {
          "output_type": "stream",
          "name": "stderr",
          "text": [
            " 30%|███       | 3/10 [04:18<08:08, 69.81s/epoch, loss=0.652, accuracy=0.645, val_loss=0.635, val_accuracy=0.673]"
          ]
        },
        {
          "output_type": "stream",
          "name": "stdout",
          "text": [
            "\b\b\b\b\b\b\b\b\b\b\b\b\b\b\b\b\b\b\b\b\b\b\b\b\b\b\b\b\b\b\b\b\b\b\b\b\b\b\b\b\b\b\b\b\b\b\b\b\b\b\b\b\b\b\b\b\b\b\b\b\b\b\b\b\b\b\b\b\b\b\b\b\b\b\b\b\b\b\b\b\b\b\b\b\r320/320 [==============================] - 36s 112ms/step - loss: 0.6519 - accuracy: 0.6447 - val_loss: 0.6353 - val_accuracy: 0.6729\n",
            "Epoch 4/10\n",
            "320/320 [==============================] - ETA: 0s - loss: 0.6529 - accuracy: 0.6447"
          ]
        },
        {
          "output_type": "stream",
          "name": "stderr",
          "text": [
            " 40%|████      | 4/10 [04:55<05:40, 56.71s/epoch, loss=0.653, accuracy=0.645, val_loss=0.636, val_accuracy=0.673]"
          ]
        },
        {
          "output_type": "stream",
          "name": "stdout",
          "text": [
            "\b\b\b\b\b\b\b\b\b\b\b\b\b\b\b\b\b\b\b\b\b\b\b\b\b\b\b\b\b\b\b\b\b\b\b\b\b\b\b\b\b\b\b\b\b\b\b\b\b\b\b\b\b\b\b\b\b\b\b\b\b\b\b\b\b\b\b\b\b\b\b\b\b\b\b\b\b\b\b\b\b\b\b\b\r320/320 [==============================] - 36s 112ms/step - loss: 0.6529 - accuracy: 0.6447 - val_loss: 0.6359 - val_accuracy: 0.6729\n",
            "Epoch 5/10\n",
            "320/320 [==============================] - ETA: 0s - loss: 0.6513 - accuracy: 0.6447"
          ]
        },
        {
          "output_type": "stream",
          "name": "stderr",
          "text": [
            " 50%|█████     | 5/10 [05:31<04:07, 49.40s/epoch, loss=0.651, accuracy=0.645, val_loss=0.64, val_accuracy=0.673] "
          ]
        },
        {
          "output_type": "stream",
          "name": "stdout",
          "text": [
            "\b\b\b\b\b\b\b\b\b\b\b\b\b\b\b\b\b\b\b\b\b\b\b\b\b\b\b\b\b\b\b\b\b\b\b\b\b\b\b\b\b\b\b\b\b\b\b\b\b\b\b\b\b\b\b\b\b\b\b\b\b\b\b\b\b\b\b\b\b\b\b\b\b\b\b\b\b\b\b\b\b\b\b\b\r320/320 [==============================] - 36s 111ms/step - loss: 0.6513 - accuracy: 0.6447 - val_loss: 0.6398 - val_accuracy: 0.6729\n",
            "Epoch 6/10\n",
            "320/320 [==============================] - ETA: 0s - loss: 0.6515 - accuracy: 0.6447"
          ]
        },
        {
          "output_type": "stream",
          "name": "stderr",
          "text": [
            " 60%|██████    | 6/10 [06:08<03:00, 45.05s/epoch, loss=0.651, accuracy=0.645, val_loss=0.632, val_accuracy=0.673]"
          ]
        },
        {
          "output_type": "stream",
          "name": "stdout",
          "text": [
            "\b\b\b\b\b\b\b\b\b\b\b\b\b\b\b\b\b\b\b\b\b\b\b\b\b\b\b\b\b\b\b\b\b\b\b\b\b\b\b\b\b\b\b\b\b\b\b\b\b\b\b\b\b\b\b\b\b\b\b\b\b\b\b\b\b\b\b\b\b\b\b\b\b\b\b\b\b\b\b\b\b\b\b\b\r320/320 [==============================] - 36s 112ms/step - loss: 0.6515 - accuracy: 0.6447 - val_loss: 0.6324 - val_accuracy: 0.6729\n",
            "Epoch 7/10\n",
            "320/320 [==============================] - ETA: 0s - loss: 0.6518 - accuracy: 0.6447"
          ]
        },
        {
          "output_type": "stream",
          "name": "stderr",
          "text": [
            " 70%|███████   | 7/10 [06:44<02:06, 42.27s/epoch, loss=0.652, accuracy=0.645, val_loss=0.635, val_accuracy=0.673]"
          ]
        },
        {
          "output_type": "stream",
          "name": "stdout",
          "text": [
            "\b\b\b\b\b\b\b\b\b\b\b\b\b\b\b\b\b\b\b\b\b\b\b\b\b\b\b\b\b\b\b\b\b\b\b\b\b\b\b\b\b\b\b\b\b\b\b\b\b\b\b\b\b\b\b\b\b\b\b\b\b\b\b\b\b\b\b\b\b\b\b\b\b\b\b\b\b\b\b\b\b\b\b\b\r320/320 [==============================] - 36s 112ms/step - loss: 0.6518 - accuracy: 0.6447 - val_loss: 0.6350 - val_accuracy: 0.6729\n",
            "Epoch 8/10\n",
            "320/320 [==============================] - ETA: 0s - loss: 0.6515 - accuracy: 0.6447"
          ]
        },
        {
          "output_type": "stream",
          "name": "stderr",
          "text": [
            " 80%|████████  | 8/10 [07:22<01:21, 40.93s/epoch, loss=0.651, accuracy=0.645, val_loss=0.636, val_accuracy=0.673]"
          ]
        },
        {
          "output_type": "stream",
          "name": "stdout",
          "text": [
            "\b\b\b\b\b\b\b\b\b\b\b\b\b\b\b\b\b\b\b\b\b\b\b\b\b\b\b\b\b\b\b\b\b\b\b\b\b\b\b\b\b\b\b\b\b\b\b\b\b\b\b\b\b\b\b\b\b\b\b\b\b\b\b\b\b\b\b\b\b\b\b\b\b\b\b\b\b\b\b\b\b\b\b\b\r320/320 [==============================] - 36s 113ms/step - loss: 0.6515 - accuracy: 0.6447 - val_loss: 0.6355 - val_accuracy: 0.6729\n",
            "Epoch 9/10\n",
            "320/320 [==============================] - ETA: 0s - loss: 0.6511 - accuracy: 0.6447"
          ]
        },
        {
          "output_type": "stream",
          "name": "stderr",
          "text": [
            " 90%|█████████ | 9/10 [08:01<00:40, 40.16s/epoch, loss=0.651, accuracy=0.645, val_loss=0.641, val_accuracy=0.673]"
          ]
        },
        {
          "output_type": "stream",
          "name": "stdout",
          "text": [
            "\b\b\b\b\b\b\b\b\b\b\b\b\b\b\b\b\b\b\b\b\b\b\b\b\b\b\b\b\b\b\b\b\b\b\b\b\b\b\b\b\b\b\b\b\b\b\b\b\b\b\b\b\b\b\b\b\b\b\b\b\b\b\b\b\b\b\b\b\b\b\b\b\b\b\b\b\b\b\b\b\b\b\b\b\r320/320 [==============================] - 38s 118ms/step - loss: 0.6511 - accuracy: 0.6447 - val_loss: 0.6410 - val_accuracy: 0.6729\n",
            "Epoch 10/10\n",
            "320/320 [==============================] - ETA: 0s - loss: 0.6519 - accuracy: 0.6447"
          ]
        },
        {
          "output_type": "stream",
          "name": "stderr",
          "text": [
            "100%|██████████| 10/10 [08:38<00:00, 39.17s/epoch, loss=0.652, accuracy=0.645, val_loss=0.633, val_accuracy=0.673]"
          ]
        },
        {
          "output_type": "stream",
          "name": "stdout",
          "text": [
            "\b\b\b\b\b\b\b\b\b\b\b\b\b\b\b\b\b\b\b\b\b\b\b\b\b\b\b\b\b\b\b\b\b\b\b\b\b\b\b\b\b\b\b\b\b\b\b\b\b\b\b\b\b\b\b\b\b\b\b\b\b\b\b\b\b\b\b\b\b\b\b\b\b\b\b\b\b\b\b\b\b\b\b\b\r320/320 [==============================] - 36s 113ms/step - loss: 0.6519 - accuracy: 0.6447 - val_loss: 0.6329 - val_accuracy: 0.6729\n"
          ]
        },
        {
          "output_type": "stream",
          "name": "stderr",
          "text": [
            "\r100%|██████████| 10/10 [08:38<00:00, 51.82s/epoch, loss=0.652, accuracy=0.645, val_loss=0.633, val_accuracy=0.673]\n"
          ]
        }
      ],
      "source": [
        "print('Start training')\n",
        "progress_bar_callback = ProgressBarCallback()\n",
        "history = custom_model.fit(\n",
        "    train_dataset.shuffle(10000).batch(batch_size).prefetch(tf.data.AUTOTUNE),\n",
        "    epochs=num_epochs,\n",
        "    validation_data=val_dataset.batch(batch_size).prefetch(tf.data.AUTOTUNE),\n",
        "    verbose=1,\n",
        "    callbacks=[progress_bar_callback]\n",
        ")"
      ],
      "id": "6d10df90"
    },
    {
      "cell_type": "code",
      "execution_count": 26,
      "metadata": {
        "id": "011fee0a"
      },
      "outputs": [],
      "source": [
        "# Save the trained model if needed\n",
        "# custom_model.save(os.path.join(BASE_DIR, 'trained_model'))"
      ],
      "id": "011fee0a"
    },
    {
      "cell_type": "code",
      "execution_count": 29,
      "metadata": {
        "id": "ctsV-8accvYm",
        "colab": {
          "base_uri": "https://localhost:8080/"
        },
        "outputId": "1c3da0e6-9b6c-468c-ba38-f8813d98d763"
      },
      "outputs": [
        {
          "output_type": "stream",
          "name": "stdout",
          "text": [
            "40/40 [==============================] - 3s 39ms/step - loss: 1.7494 - accuracy: 0.2058\n",
            "loss: 1.7493821382522583\n",
            "accuracy: 0.2058359682559967\n",
            "Test Loss: 1.7493821382522583\n",
            "Test Accuracy: 0.2058359682559967\n"
          ]
        }
      ],
      "source": [
        "# from keras.utils import Progbar\n",
        "\n",
        "# Tokenize and preprocess the test data\n",
        "test_encoded_statement_data = tokenizer(\n",
        "    test['statement'].tolist(),\n",
        "    padding='max_length',\n",
        "    truncation=True,\n",
        "    max_length=128,\n",
        "    return_tensors='tf'\n",
        ")\n",
        "test['label_encoded'] = train['label'].map(label_mapping)\n",
        "test['metadata'] = test['subject'].astype(str) + ' ' + test['speaker'].astype(str) + ' ' + test['job_title'].astype(str) + ' ' + test['state'].astype(str) + ' ' + test['affiliation'].astype(str) + ' ' + test['context'].astype(str)\n",
        "\n",
        "test_encoded_metadata = tokenizer(\n",
        "    test['metadata'].to_list(),\n",
        "    padding='max_length',\n",
        "    truncation=True,\n",
        "    max_length=128,\n",
        "    return_tensors='tf'\n",
        ")\n",
        "\n",
        "# Create TensorFlow dataset for testing\n",
        "test_dataset = tf.data.Dataset.from_tensor_slices((\n",
        "    {\n",
        "        'input_ids': test_encoded_statement_data['input_ids'],\n",
        "        'attention_mask': test_encoded_statement_data['attention_mask'],\n",
        "        'input_ids_metadata': test_encoded_metadata['input_ids'],\n",
        "        'attention_mask_metadata': test_encoded_metadata['attention_mask']\n",
        "    },\n",
        "    test['label_encoded']\n",
        "))\n",
        "\n",
        "test_steps = len(test_dataset)\n",
        "# progbar = Progbar(test_steps)\n",
        "\n",
        "# Evaluate the model on the test dataset\n",
        "with tpu_strategy.scope():\n",
        "  results = custom_model.evaluate(test_dataset.batch(batch_size).prefetch(tf.data.AUTOTUNE))\n",
        "\n",
        "# Display the results and update the progress bar\n",
        "for metric_name, result in zip(custom_model.metrics_names, results):\n",
        "    print(f'{metric_name}: {result}')\n",
        "\n",
        "    # Update progress bar\n",
        "    # progbar.update(1)\n",
        "# Print the evaluation results (including accuracy)\n",
        "print(\"Test Loss:\", results[0])\n",
        "print(\"Test Accuracy:\", results[1])"
      ],
      "id": "ctsV-8accvYm"
    },
    {
      "cell_type": "code",
      "execution_count": 31,
      "metadata": {
        "id": "uCfWLaaDm5Nw",
        "colab": {
          "base_uri": "https://localhost:8080/",
          "height": 472
        },
        "outputId": "d02d310f-60ac-4776-c210-73e551b6e7cf"
      },
      "outputs": [
        {
          "output_type": "display_data",
          "data": {
            "text/plain": [
              "<Figure size 640x480 with 1 Axes>"
            ],
            "image/png": "[encoded data removed]"
          },
          "metadata": {}
        }
      ],
      "source": [
        "import matplotlib.pyplot as plt\n",
        "\n",
        "# Plot training & validation accuracy values\n",
        "\n",
        "plt.plot(history.history['accuracy'])\n",
        "plt.plot(history.history['val_accuracy'])\n",
        "plt.plot(history.history['loss'])\n",
        "plt.plot(history.history['val_loss'])\n",
        "plt.title('Model Loss/Accuracy')\n",
        "plt.xlabel('Epoch')\n",
        "plt.ylabel('Loss/Accuracy')\n",
        "plt.legend(['train_acc', 'val_acc', 'train_loss', 'val_loss'], loc='upper left')\n",
        "plt.show()"
      ],
      "id": "uCfWLaaDm5Nw"
    }
  ],
  "metadata": {
    "accelerator": "TPU",
    "colab": {
      "provenance": []
    },
    "jupytext": {
      "cell_metadata_filter": "-all",
      "main_language": "python",
      "notebook_metadata_filter": "-all"
    },
    "kernelspec": {
      "display_name": "Python 3",
      "name": "python3"
    },
    "language_info": {
      "name": "python"
    },
    "widgets": {
      "application/vnd.jupyter.widget-state+json": {
        "b73fdc70c2aa4594984294f89d8a0693": {
          "model_module": "@jupyter-widgets/controls",
          "model_name": "HBoxModel",
          "model_module_version": "1.5.0",
          "state": {
            "_dom_classes": [],
            "_model_module": "@jupyter-widgets/controls",
            "_model_module_version": "1.5.0",
            "_model_name": "HBoxModel",
            "_view_count": null,
            "_view_module": "@jupyter-widgets/controls",
            "_view_module_version": "1.5.0",
            "_view_name": "HBoxView",
            "box_style": "",
            "children": [
              "IPY_MODEL_68fe285b72ab4655b23c62472add6843",
              "IPY_MODEL_f94b51be66a94f21ba903edeaf94e6b1",
              "IPY_MODEL_00547cf5a25948dbb7c86f3d399ad84e"
            ],
            "layout": "IPY_MODEL_d74080341bc94f609bf6c51143cb8f75"
          }
        },
        "68fe285b72ab4655b23c62472add6843": {
          "model_module": "@jupyter-widgets/controls",
          "model_name": "HTMLModel",
          "model_module_version": "1.5.0",
          "state": {
            "_dom_classes": [],
            "_model_module": "@jupyter-widgets/controls",
            "_model_module_version": "1.5.0",
            "_model_name": "HTMLModel",
            "_view_count": null,
            "_view_module": "@jupyter-widgets/controls",
            "_view_module_version": "1.5.0",
            "_view_name": "HTMLView",
            "description": "",
            "description_tooltip": null,
            "layout": "IPY_MODEL_a3475b2883ea496b9d7237af5bdd1ba0",
            "placeholder": "​",
            "style": "IPY_MODEL_d2500d569ad64591ac8206035a6f3113",
            "value": "model.safetensors: 100%"
          }
        },
        "f94b51be66a94f21ba903edeaf94e6b1": {
          "model_module": "@jupyter-widgets/controls",
          "model_name": "FloatProgressModel",
          "model_module_version": "1.5.0",
          "state": {
            "_dom_classes": [],
            "_model_module": "@jupyter-widgets/controls",
            "_model_module_version": "1.5.0",
            "_model_name": "FloatProgressModel",
            "_view_count": null,
            "_view_module": "@jupyter-widgets/controls",
            "_view_module_version": "1.5.0",
            "_view_name": "ProgressView",
            "bar_style": "success",
            "description": "",
            "description_tooltip": null,
            "layout": "IPY_MODEL_5fb2281a2d7041fd96afa57ec4805b03",
            "max": 440449768,
            "min": 0,
            "orientation": "horizontal",
            "style": "IPY_MODEL_57bb43d1672d4d3c8290bc24303178b8",
            "value": 440449768
          }
        },
        "00547cf5a25948dbb7c86f3d399ad84e": {
          "model_module": "@jupyter-widgets/controls",
          "model_name": "HTMLModel",
          "model_module_version": "1.5.0",
          "state": {
            "_dom_classes": [],
            "_model_module": "@jupyter-widgets/controls",
            "_model_module_version": "1.5.0",
            "_model_name": "HTMLModel",
            "_view_count": null,
            "_view_module": "@jupyter-widgets/controls",
            "_view_module_version": "1.5.0",
            "_view_name": "HTMLView",
            "description": "",
            "description_tooltip": null,
            "layout": "IPY_MODEL_08c1f91804494686b16ad5ad155830dc",
            "placeholder": "​",
            "style": "IPY_MODEL_ffa79154df8144f4b0ccb77ade112c9d",
            "value": " 440M/440M [00:06&lt;00:00, 67.9MB/s]"
          }
        },
        "d74080341bc94f609bf6c51143cb8f75": {
          "model_module": "@jupyter-widgets/base",
          "model_name": "LayoutModel",
          "model_module_version": "1.2.0",
          "state": {
            "_model_module": "@jupyter-widgets/base",
            "_model_module_version": "1.2.0",
            "_model_name": "LayoutModel",
            "_view_count": null,
            "_view_module": "@jupyter-widgets/base",
            "_view_module_version": "1.2.0",
            "_view_name": "LayoutView",
            "align_content": null,
            "align_items": null,
            "align_self": null,
            "border": null,
            "bottom": null,
            "display": null,
            "flex": null,
            "flex_flow": null,
            "grid_area": null,
            "grid_auto_columns": null,
            "grid_auto_flow": null,
            "grid_auto_rows": null,
            "grid_column": null,
            "grid_gap": null,
            "grid_row": null,
            "grid_template_areas": null,
            "grid_template_columns": null,
            "grid_template_rows": null,
            "height": null,
            "justify_content": null,
            "justify_items": null,
            "left": null,
            "margin": null,
            "max_height": null,
            "max_width": null,
            "min_height": null,
            "min_width": null,
            "object_fit": null,
            "object_position": null,
            "order": null,
            "overflow": null,
            "overflow_x": null,
            "overflow_y": null,
            "padding": null,
            "right": null,
            "top": null,
            "visibility": null,
            "width": null
          }
        },
        "a3475b2883ea496b9d7237af5bdd1ba0": {
          "model_module": "@jupyter-widgets/base",
          "model_name": "LayoutModel",
          "model_module_version": "1.2.0",
          "state": {
            "_model_module": "@jupyter-widgets/base",
            "_model_module_version": "1.2.0",
            "_model_name": "LayoutModel",
            "_view_count": null,
            "_view_module": "@jupyter-widgets/base",
            "_view_module_version": "1.2.0",
            "_view_name": "LayoutView",
            "align_content": null,
            "align_items": null,
            "align_self": null,
            "border": null,
            "bottom": null,
            "display": null,
            "flex": null,
            "flex_flow": null,
            "grid_area": null,
            "grid_auto_columns": null,
            "grid_auto_flow": null,
            "grid_auto_rows": null,
            "grid_column": null,
            "grid_gap": null,
            "grid_row": null,
            "grid_template_areas": null,
            "grid_template_columns": null,
            "grid_template_rows": null,
            "height": null,
            "justify_content": null,
            "justify_items": null,
            "left": null,
            "margin": null,
            "max_height": null,
            "max_width": null,
            "min_height": null,
            "min_width": null,
            "object_fit": null,
            "object_position": null,
            "order": null,
            "overflow": null,
            "overflow_x": null,
            "overflow_y": null,
            "padding": null,
            "right": null,
            "top": null,
            "visibility": null,
            "width": null
          }
        },
        "d2500d569ad64591ac8206035a6f3113": {
          "model_module": "@jupyter-widgets/controls",
          "model_name": "DescriptionStyleModel",
          "model_module_version": "1.5.0",
          "state": {
            "_model_module": "@jupyter-widgets/controls",
            "_model_module_version": "1.5.0",
            "_model_name": "DescriptionStyleModel",
            "_view_count": null,
            "_view_module": "@jupyter-widgets/base",
            "_view_module_version": "1.2.0",
            "_view_name": "StyleView",
            "description_width": ""
          }
        },
        "5fb2281a2d7041fd96afa57ec4805b03": {
          "model_module": "@jupyter-widgets/base",
          "model_name": "LayoutModel",
          "model_module_version": "1.2.0",
          "state": {
            "_model_module": "@jupyter-widgets/base",
            "_model_module_version": "1.2.0",
            "_model_name": "LayoutModel",
            "_view_count": null,
            "_view_module": "@jupyter-widgets/base",
            "_view_module_version": "1.2.0",
            "_view_name": "LayoutView",
            "align_content": null,
            "align_items": null,
            "align_self": null,
            "border": null,
            "bottom": null,
            "display": null,
            "flex": null,
            "flex_flow": null,
            "grid_area": null,
            "grid_auto_columns": null,
            "grid_auto_flow": null,
            "grid_auto_rows": null,
            "grid_column": null,
            "grid_gap": null,
            "grid_row": null,
            "grid_template_areas": null,
            "grid_template_columns": null,
            "grid_template_rows": null,
            "height": null,
            "justify_content": null,
            "justify_items": null,
            "left": null,
            "margin": null,
            "max_height": null,
            "max_width": null,
            "min_height": null,
            "min_width": null,
            "object_fit": null,
            "object_position": null,
            "order": null,
            "overflow": null,
            "overflow_x": null,
            "overflow_y": null,
            "padding": null,
            "right": null,
            "top": null,
            "visibility": null,
            "width": null
          }
        },
        "57bb43d1672d4d3c8290bc24303178b8": {
          "model_module": "@jupyter-widgets/controls",
          "model_name": "ProgressStyleModel",
          "model_module_version": "1.5.0",
          "state": {
            "_model_module": "@jupyter-widgets/controls",
            "_model_module_version": "1.5.0",
            "_model_name": "ProgressStyleModel",
            "_view_count": null,
            "_view_module": "@jupyter-widgets/base",
            "_view_module_version": "1.2.0",
            "_view_name": "StyleView",
            "bar_color": null,
            "description_width": ""
          }
        },
        "08c1f91804494686b16ad5ad155830dc": {
          "model_module": "@jupyter-widgets/base",
          "model_name": "LayoutModel",
          "model_module_version": "1.2.0",
          "state": {
            "_model_module": "@jupyter-widgets/base",
            "_model_module_version": "1.2.0",
            "_model_name": "LayoutModel",
            "_view_count": null,
            "_view_module": "@jupyter-widgets/base",
            "_view_module_version": "1.2.0",
            "_view_name": "LayoutView",
            "align_content": null,
            "align_items": null,
            "align_self": null,
            "border": null,
            "bottom": null,
            "display": null,
            "flex": null,
            "flex_flow": null,
            "grid_area": null,
            "grid_auto_columns": null,
            "grid_auto_flow": null,
            "grid_auto_rows": null,
            "grid_column": null,
            "grid_gap": null,
            "grid_row": null,
            "grid_template_areas": null,
            "grid_template_columns": null,
            "grid_template_rows": null,
            "height": null,
            "justify_content": null,
            "justify_items": null,
            "left": null,
            "margin": null,
            "max_height": null,
            "max_width": null,
            "min_height": null,
            "min_width": null,
            "object_fit": null,
            "object_position": null,
            "order": null,
            "overflow": null,
            "overflow_x": null,
            "overflow_y": null,
            "padding": null,
            "right": null,
            "top": null,
            "visibility": null,
            "width": null
          }
        },
        "ffa79154df8144f4b0ccb77ade112c9d": {
          "model_module": "@jupyter-widgets/controls",
          "model_name": "DescriptionStyleModel",
          "model_module_version": "1.5.0",
          "state": {
            "_model_module": "@jupyter-widgets/controls",
            "_model_module_version": "1.5.0",
            "_model_name": "DescriptionStyleModel",
            "_view_count": null,
            "_view_module": "@jupyter-widgets/base",
            "_view_module_version": "1.2.0",
            "_view_name": "StyleView",
            "description_width": ""
          }
        }
      }
    }
  },
  "nbformat": 4,
  "nbformat_minor": 5
}